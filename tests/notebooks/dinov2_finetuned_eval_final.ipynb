{
 "cells": [
  {
   "cell_type": "markdown",
   "id": "1bf42ffd-99c2-4ab1-b7b5-1cfb29b4d46d",
   "metadata": {},
   "source": [
    "# **Clustering lynx**"
   ]
  },
  {
   "cell_type": "code",
   "execution_count": 1,
   "id": "2791c1a5-f797-406e-899a-2b08a4e7ca95",
   "metadata": {
    "tags": []
   },
   "outputs": [],
   "source": [
    "# Allow reloading of libraries without restarting the kernel\n",
    "%load_ext autoreload\n",
    "%autoreload 2"
   ]
  },
  {
   "cell_type": "code",
   "execution_count": 2,
   "id": "c78db62c-59d1-4202-aefe-edc7e760218e",
   "metadata": {
    "tags": []
   },
   "outputs": [
    {
     "name": "stderr",
     "output_type": "stream",
     "text": [
      "/lustre/fswork/projects/rech/ads/uxp55sd/.local/lib/python3.11/site-packages/torchvision/io/image.py:13: UserWarning: Failed to load image Python extension: '/lustre/fswork/projects/rech/ads/uxp55sd/.local/lib/python3.11/site-packages/torchvision/image.so: undefined symbol: _ZN3c1017RegisterOperatorsD1Ev'If you don't plan on using image functionality from `torchvision.io`, you can ignore this warning. Otherwise, there might be something wrong with your environment. Did you have `libjpeg` or `libpng` installed before building `torchvision` from source?\n",
      "  warn(\n",
      "/gpfslocalsup/pub/anaconda-py3/2023.09/envs/pytorch-gpu-2.3.0+py3.11.5/lib/python3.11/site-packages/paramiko/transport.py:219: CryptographyDeprecationWarning: Blowfish has been deprecated and will be removed in a future release\n",
      "  \"class\": algorithms.Blowfish,\n"
     ]
    }
   ],
   "source": [
    "import os\n",
    "import random\n",
    "import matplotlib.pyplot as plt\n",
    "from collections import Counter\n",
    "from pathlib import Path\n",
    "from scipy.stats import norm\n",
    "from safetensors import safe_open\n",
    "\n",
    "import pandas as pd\n",
    "import torch\n",
    "import torch.nn as nn\n",
    "import numpy as np\n",
    "from oml.functional.metrics import calc_cmc, calc_map, calc_precision\n",
    "from sklearn.neighbors import NearestNeighbors\n",
    "from torch.utils.data import DataLoader\n",
    "from torchvision import models\n",
    "from tqdm import tqdm\n",
    "\n",
    "import timm\n",
    "\n",
    "from lynx_id.data.dataset import LynxDataset\n",
    "from lynx_id.data.transformations_and_augmentations import transforms_dinov2, augments_dinov2\n",
    "from lynx_id.data.collate import collate_single\n",
    "from lynx_id.model.embeddings import EmbeddingModel\n",
    "from lynx_id.model.clustering import ClusteringModel\n",
    "from lynx_id.eval.eval import EvalMetrics\n",
    "from lynx_id.utils.plot_results import plot_multiple_bar\n",
    "\n",
    "plt.rcParams['figure.figsize'] = [20, 5]\n",
    "\n",
    "def seed_everything(seed_value):\n",
    "    random.seed(seed_value)\n",
    "    np.random.seed(seed_value)\n",
    "    torch.manual_seed(seed_value)\n",
    "\n",
    "    if torch.cuda.is_available():\n",
    "        torch.cuda.manual_seed(seed_value)\n",
    "        torch.cuda.manual_seed_all(seed_value)\n",
    "        \n",
    "seed_everything(53)"
   ]
  },
  {
   "cell_type": "code",
   "execution_count": 3,
   "id": "634a7e81-ecf9-4223-982c-10ee7dad0947",
   "metadata": {
    "tags": []
   },
   "outputs": [
    {
     "name": "stdout",
     "output_type": "stream",
     "text": [
      "DEVICE='cuda'\n"
     ]
    }
   ],
   "source": [
    "DEVICE = \"cuda\" if torch.cuda.is_available() else \"cpu\"\n",
    "print(f\"{DEVICE=}\")"
   ]
  },
  {
   "cell_type": "markdown",
   "id": "862b969b-d0a0-4cc0-aefc-f4b0d16a5cd2",
   "metadata": {
    "tags": []
   },
   "source": [
    "## **Prepare data**"
   ]
  },
  {
   "cell_type": "markdown",
   "id": "a7c14cbd-feed-4f5c-a2a8-6ed650c1d618",
   "metadata": {},
   "source": [
    "### Load datasets"
   ]
  },
  {
   "cell_type": "code",
   "execution_count": 4,
   "id": "312a987d-8762-40ec-8feb-3035836a2591",
   "metadata": {
    "tags": []
   },
   "outputs": [],
   "source": [
    "probabilities = [0, 0.5, 0.5]\n",
    "\n",
    "BASE_PATH = Path(\"/lustre/fsn1/projects/rech/ads/commun/datasets/balanced_noswiss_csv\")\n",
    "countries = ['all']\n",
    "image_size = 700\n",
    "\n",
    "train_lynxDataset = LynxDataset(\n",
    "    dataset_csv=Path(BASE_PATH / 'lynx_id_balanced_train.csv'),\n",
    "    countries=countries,\n",
    "    loader=\"pil\",\n",
    "    transform=transforms_dinov2(image_size=image_size),\n",
    "    augmentation=augments_dinov2(image_size=image_size),\n",
    "    probabilities=probabilities,\n",
    "    mode='single',\n",
    "    device=\"cuda\"\n",
    ")\n",
    "\n",
    "val_lynxDataset = LynxDataset(\n",
    "    dataset_csv=Path(BASE_PATH / 'lynx_id_balanced_val.csv'), \n",
    "    countries=countries,\n",
    "    loader=\"pil\",\n",
    "    transform=transforms_dinov2(image_size=image_size),\n",
    "    augmentation=augments_dinov2(image_size=image_size),\n",
    "    probabilities=probabilities,\n",
    "    mode='single',\n",
    "    device=\"cuda\"\n",
    ")  # useful for computing the threshold for detecting new individuals when evaluating the test set\n",
    "\n",
    "test_lynxDataset = LynxDataset(\n",
    "    dataset_csv=Path(BASE_PATH / 'lynx_id_balanced_test.csv'), \n",
    "    countries=countries,\n",
    "    loader=\"pil\",\n",
    "    transform=transforms_dinov2(image_size=image_size),\n",
    "    augmentation=augments_dinov2(image_size=image_size),\n",
    "    probabilities=probabilities,\n",
    "    mode='single',\n",
    "    device=\"cuda\"\n",
    ")"
   ]
  },
  {
   "cell_type": "code",
   "execution_count": 5,
   "id": "d4c9d341-3868-4c3b-9c35-1ceae0eed542",
   "metadata": {
    "tags": []
   },
   "outputs": [
    {
     "name": "stdout",
     "output_type": "stream",
     "text": [
      "len(train_lynxDataset)=8647 images\n",
      "len(val_lynxDataset)=2059 images\n",
      "len(test_lynxDataset)=2526 images\n"
     ]
    }
   ],
   "source": [
    "print(f\"{len(train_lynxDataset)=} images\")\n",
    "print(f\"{len(val_lynxDataset)=} images\")\n",
    "print(f\"{len(test_lynxDataset)=} images\")"
   ]
  },
  {
   "cell_type": "code",
   "execution_count": 6,
   "id": "82bb218c-e810-4f9f-a5b6-ae3ee684a686",
   "metadata": {
    "tags": []
   },
   "outputs": [
    {
     "name": "stdout",
     "output_type": "stream",
     "text": [
      "TRAIN | Number of individuals: 732\n",
      "VAL   | Number of individuals: 585\n",
      "TEST  | Number of individuals: 789\n"
     ]
    }
   ],
   "source": [
    "train_lynx_id_counts = train_lynxDataset.dataframe['lynx_id'].value_counts()\n",
    "val_lynx_id_counts = val_lynxDataset.dataframe['lynx_id'].value_counts()\n",
    "test_lynx_id_counts = test_lynxDataset.dataframe['lynx_id'].value_counts()\n",
    "\n",
    "\n",
    "print(f\"TRAIN | Number of individuals: {len(train_lynx_id_counts)}\")\n",
    "print(f\"VAL   | Number of individuals: {len(val_lynx_id_counts)}\")\n",
    "print(f\"TEST  | Number of individuals: {len(test_lynx_id_counts)}\")"
   ]
  },
  {
   "cell_type": "code",
   "execution_count": 7,
   "id": "07974a78-a41c-4403-ac60-038f56b83bd1",
   "metadata": {
    "tags": []
   },
   "outputs": [
    {
     "name": "stdout",
     "output_type": "stream",
     "text": [
      "The train and val set share 487 individuals in common.\n",
      "Compared to the training set, the val set has 98 new individuals.\n",
      "\n",
      "The train and test set share 671 individuals in common.\n",
      "Compared to the training set, the test set has 118 new individuals.\n"
     ]
    }
   ],
   "source": [
    "set_individuals_train = set(train_lynx_id_counts.index)\n",
    "set_individuals_val = set(val_lynx_id_counts.index)\n",
    "set_individuals_test = set(test_lynx_id_counts.index)\n",
    "\n",
    "print(f\"The train and val set share {len(set_individuals_train.intersection(set_individuals_val))} individuals in common.\")\n",
    "print(f\"Compared to the training set, the val set has {len(set_individuals_val - set_individuals_train)} new individuals.\\n\")\n",
    "\n",
    "print(f\"The train and test set share {len(set_individuals_train.intersection(set_individuals_test))} individuals in common.\")\n",
    "print(f\"Compared to the training set, the test set has {len(set_individuals_test - set_individuals_train)} new individuals.\")"
   ]
  },
  {
   "cell_type": "code",
   "execution_count": 8,
   "id": "12fa77b0-2679-40b3-a3fb-d180943057b6",
   "metadata": {
    "tags": []
   },
   "outputs": [],
   "source": [
    "new_lynx_id_val = set_individuals_val - set_individuals_train\n",
    "new_lynx_id_test = set_individuals_test - set_individuals_train"
   ]
  },
  {
   "cell_type": "code",
   "execution_count": 9,
   "id": "f7a014a0-9095-46b1-907f-380c5fde7415",
   "metadata": {
    "tags": []
   },
   "outputs": [],
   "source": [
    "train_dataloader = DataLoader(\n",
    "    train_lynxDataset,\n",
    "    batch_size=64,\n",
    "    shuffle=False,\n",
    "    num_workers=4,\n",
    "    collate_fn=collate_single,\n",
    "    prefetch_factor=4\n",
    ")\n",
    "\n",
    "val_dataloader = DataLoader(\n",
    "    val_lynxDataset,\n",
    "    batch_size=64,\n",
    "    shuffle=False,\n",
    "    num_workers=4,\n",
    "    collate_fn=collate_single,\n",
    "    prefetch_factor=4\n",
    ")\n",
    "\n",
    "test_dataloader = DataLoader(\n",
    "    test_lynxDataset,\n",
    "    batch_size=64,\n",
    "    shuffle=False,\n",
    "    num_workers=4,\n",
    "    collate_fn=collate_single,\n",
    "    prefetch_factor=4\n",
    ")"
   ]
  },
  {
   "cell_type": "markdown",
   "id": "29e7a651-b20d-4bd4-8489-9af46c0ebbb9",
   "metadata": {
    "tags": []
   },
   "source": [
    "### Load our best model to get embeddings from image"
   ]
  },
  {
   "cell_type": "code",
   "execution_count": 10,
   "id": "66dd417e-6aaa-4119-8121-b126eaf286fc",
   "metadata": {},
   "outputs": [
    {
     "name": "stdout",
     "output_type": "stream",
     "text": [
      "Model directory set to: /lustre/fswork/projects/rech/ads/commun/models\n"
     ]
    }
   ],
   "source": [
    "# Determine the base path using either the provided custom path or environment variable\n",
    "base_path = '/lustre/fswork/projects/rech/ads/commun'\n",
    "\n",
    "if base_path:\n",
    "    # Join the base path with 'models' subdirectory\n",
    "    hub_dir = os.path.join(base_path, 'models')\n",
    "    # Set the torch.hub directory to the determined path\n",
    "    torch.hub.set_dir(hub_dir)\n",
    "    # Notify the user of the set directory\n",
    "    print(f\"Model directory set to: {hub_dir}\")"
   ]
  },
  {
   "cell_type": "code",
   "execution_count": 11,
   "id": "66bc4fe0-a951-41d1-8f43-a7284bf934c6",
   "metadata": {},
   "outputs": [
    {
     "name": "stderr",
     "output_type": "stream",
     "text": [
      "/lustre/fswork/projects/rech/ads/uxp55sd/.local/lib/python3.11/site-packages/xformers/ops/fmha/flash.py:211: FutureWarning: `torch.library.impl_abstract` was renamed to `torch.library.register_fake`. Please use that instead; we will remove `torch.library.impl_abstract` in a future version of PyTorch.\n",
      "  @torch.library.impl_abstract(\"xformers_flash::flash_fwd\")\n",
      "/lustre/fswork/projects/rech/ads/uxp55sd/.local/lib/python3.11/site-packages/xformers/ops/fmha/flash.py:344: FutureWarning: `torch.library.impl_abstract` was renamed to `torch.library.register_fake`. Please use that instead; we will remove `torch.library.impl_abstract` in a future version of PyTorch.\n",
      "  @torch.library.impl_abstract(\"xformers_flash::flash_bwd\")\n",
      "/lustre/fswork/projects/rech/ads/commun/models/facebookresearch_dinov2_main/dinov2/layers/swiglu_ffn.py:43: UserWarning: xFormers is available (SwiGLU)\n",
      "  warnings.warn(\"xFormers is available (SwiGLU)\")\n",
      "/lustre/fswork/projects/rech/ads/commun/models/facebookresearch_dinov2_main/dinov2/layers/attention.py:27: UserWarning: xFormers is available (Attention)\n",
      "  warnings.warn(\"xFormers is available (Attention)\")\n",
      "/lustre/fswork/projects/rech/ads/commun/models/facebookresearch_dinov2_main/dinov2/layers/block.py:33: UserWarning: xFormers is available (Block)\n",
      "  warnings.warn(\"xFormers is available (Block)\")\n",
      "/tmp/xpython_467047/2593614982.py:5: FutureWarning: You are using `torch.load` with `weights_only=False` (the current default value), which uses the default pickle module implicitly. It is possible to construct malicious pickle data which will execute arbitrary code during unpickling (See https://github.com/pytorch/pytorch/blob/main/SECURITY.md#untrusted-models for more details). In a future release, the default value for `weights_only` will be flipped to `True`. This limits the functions that could be executed during unpickling. Arbitrary objects will no longer be allowed to be loaded via this mode unless they are explicitly allowlisted by the user via `torch.serialization.add_safe_globals`. We recommend you start setting `weights_only=True` for any use case where you don't have full control of the loaded file. Please open an issue on GitHub for any issues related to this experimental feature.\n",
      "  model.load_state_dict(torch.load(state_dict))\n"
     ]
    },
    {
     "data": {
      "text/plain": [
       "DinoVisionTransformer(\n",
       "  (patch_embed): PatchEmbed(\n",
       "    (proj): Conv2d(3, 1024, kernel_size=(14, 14), stride=(14, 14))\n",
       "    (norm): Identity()\n",
       "  )\n",
       "  (blocks): ModuleList(\n",
       "    (0-23): 24 x NestedTensorBlock(\n",
       "      (norm1): LayerNorm((1024,), eps=1e-06, elementwise_affine=True)\n",
       "      (attn): MemEffAttention(\n",
       "        (qkv): Linear(in_features=1024, out_features=3072, bias=True)\n",
       "        (attn_drop): Dropout(p=0.0, inplace=False)\n",
       "        (proj): Linear(in_features=1024, out_features=1024, bias=True)\n",
       "        (proj_drop): Dropout(p=0.0, inplace=False)\n",
       "      )\n",
       "      (ls1): LayerScale()\n",
       "      (drop_path1): Identity()\n",
       "      (norm2): LayerNorm((1024,), eps=1e-06, elementwise_affine=True)\n",
       "      (mlp): Mlp(\n",
       "        (fc1): Linear(in_features=1024, out_features=4096, bias=True)\n",
       "        (act): GELU(approximate='none')\n",
       "        (fc2): Linear(in_features=4096, out_features=1024, bias=True)\n",
       "        (drop): Dropout(p=0.0, inplace=False)\n",
       "      )\n",
       "      (ls2): LayerScale()\n",
       "      (drop_path2): Identity()\n",
       "    )\n",
       "  )\n",
       "  (norm): LayerNorm((1024,), eps=1e-06, elementwise_affine=True)\n",
       "  (head): Identity()\n",
       ")"
      ]
     },
     "execution_count": 11,
     "metadata": {},
     "output_type": "execute_result"
    }
   ],
   "source": [
    "state_dict = \"/lustre/fswork/projects/rech/ads/commun/kg_tests/experiments/dinov2l_noswiss_full/2024-10-21_13-50-30/model_best_0.882.pth\"\n",
    "filename = os.path.splitext(os.path.basename(state_dict))[0]\n",
    "\n",
    "model = torch.hub.load('/lustre/fswork/projects/rech/ads/commun/models/facebookresearch_dinov2_main/', 'dinov2_vitl14_reg', source='local').to(DEVICE) \n",
    "model.load_state_dict(torch.load(state_dict))\n",
    "model.eval()"
   ]
  },
  {
   "cell_type": "code",
   "execution_count": 12,
   "id": "ae4d6860-4e71-4d19-b167-4cade760436f",
   "metadata": {
    "tags": []
   },
   "outputs": [
    {
     "name": "stderr",
     "output_type": "stream",
     "text": [
      "100%|##########| 136/136 [16:55<00:00,  7.46s/it]\n"
     ]
    }
   ],
   "source": [
    "train_embeddings=None\n",
    "\n",
    "for i, batch in enumerate(tqdm(train_dataloader, total=len(train_dataloader))):\n",
    "    batch_tensor = torch.stack(batch[0]['image']).to(DEVICE).float()\n",
    "\n",
    "    with torch.no_grad():\n",
    "        batch_embeddings = model(batch_tensor)\n",
    "\n",
    "        if train_embeddings is None:\n",
    "            train_embeddings = batch_embeddings\n",
    "        else:\n",
    "            train_embeddings = torch.cat((train_embeddings, batch_embeddings), dim=0)"
   ]
  },
  {
   "cell_type": "code",
   "execution_count": 13,
   "id": "d89d0720-ea50-4ab7-9867-8707e77466ed",
   "metadata": {
    "tags": []
   },
   "outputs": [
    {
     "name": "stderr",
     "output_type": "stream",
     "text": [
      "100%|##########| 33/33 [04:04<00:00,  7.40s/it]\n"
     ]
    }
   ],
   "source": [
    "val_embeddings=None\n",
    "\n",
    "for i, batch in enumerate(tqdm(val_dataloader, total=len(val_dataloader))):\n",
    "    batch_tensor = torch.stack(batch[0]['image']).to(DEVICE).float()\n",
    "\n",
    "    with torch.no_grad():\n",
    "        batch_embeddings = model(batch_tensor)\n",
    "\n",
    "        if val_embeddings is None:\n",
    "            val_embeddings = batch_embeddings\n",
    "        else:\n",
    "            val_embeddings = torch.cat((val_embeddings, batch_embeddings), dim=0)"
   ]
  },
  {
   "cell_type": "code",
   "execution_count": 14,
   "id": "8efb56a5-a199-43f1-b7bc-f1805b11acf4",
   "metadata": {
    "tags": []
   },
   "outputs": [
    {
     "name": "stderr",
     "output_type": "stream",
     "text": [
      "100%|##########| 40/40 [04:57<00:00,  7.43s/it]\n"
     ]
    }
   ],
   "source": [
    "test_embeddings=None\n",
    "\n",
    "for i, batch in enumerate(tqdm(test_dataloader, total=len(test_dataloader))):\n",
    "    batch_tensor = torch.stack(batch[0]['image']).to(DEVICE).float()\n",
    "\n",
    "    with torch.no_grad():\n",
    "        batch_embeddings = model(batch_tensor)\n",
    "\n",
    "        if test_embeddings is None:\n",
    "            test_embeddings = batch_embeddings\n",
    "        else:\n",
    "            test_embeddings = torch.cat((test_embeddings, batch_embeddings), dim=0)"
   ]
  },
  {
   "cell_type": "code",
   "execution_count": 15,
   "id": "8314ff68-0e4e-4d61-8553-43a94704771d",
   "metadata": {
    "tags": []
   },
   "outputs": [
    {
     "name": "stdout",
     "output_type": "stream",
     "text": [
      "TRAIN | Number of images: 8647 | Embedding shape: 1024\n",
      "VAL   | Number of images: 2059   | Embedding shape: 1024\n",
      "TEST  | Number of images: 2526  | Embedding shape: 1024\n"
     ]
    }
   ],
   "source": [
    "train_embeddings = train_embeddings.to(\"cpu\")\n",
    "val_embeddings = val_embeddings.to(\"cpu\")\n",
    "test_embeddings = test_embeddings.to(\"cpu\")\n",
    "\n",
    "print(f\"TRAIN | Number of images: {train_embeddings.shape[0]} | Embedding shape: {train_embeddings.shape[1]}\")\n",
    "print(f\"VAL   | Number of images: {val_embeddings.shape[0]}   | Embedding shape: {val_embeddings.shape[1]}\")\n",
    "print(f\"TEST  | Number of images: {test_embeddings.shape[0]}  | Embedding shape: {test_embeddings.shape[1]}\")"
   ]
  },
  {
   "cell_type": "code",
   "execution_count": 16,
   "id": "db60ed18-860c-4d77-b634-a77d9226f032",
   "metadata": {},
   "outputs": [],
   "source": [
    "BASE_PATH = Path(\"/lustre/fswork/projects/rech/ads/commun/embeddings_evaluation\")\n",
    "filename=\"model_best_0.882\"\n",
    "if os.path.exists(BASE_PATH / f\"{filename}.safetensors\"):  # load embeddings\n",
    "    with safe_open(BASE_PATH / f\"{filename}.safetensors\",\n",
    "                   framework=\"pt\", device=\"cpu\") as f:\n",
    "        train_embeddings_2 = f.get_tensor(\"train_embeddings\")\n",
    "        val_embeddings_2 = f.get_tensor(\"val_embeddings\")\n",
    "        test_embeddings_2 = f.get_tensor(\"test_embeddings\")"
   ]
  },
  {
   "cell_type": "code",
   "execution_count": 24,
   "id": "e298e356-8368-4860-b88b-ea4e54012db8",
   "metadata": {
    "tags": []
   },
   "outputs": [
    {
     "name": "stderr",
     "output_type": "stream",
     "text": [
      "100%|##########| 2059/2059 [00:00<00:00, 5458958.24it/s]\n"
     ]
    },
    {
     "name": "stdout",
     "output_type": "stream",
     "text": [
      "count_new=220\n"
     ]
    },
    {
     "name": "stderr",
     "output_type": "stream",
     "text": [
      "100%|##########| 2526/2526 [00:00<00:00, 5733123.32it/s]\n"
     ]
    },
    {
     "name": "stdout",
     "output_type": "stream",
     "text": [
      "count_new=279\n"
     ]
    }
   ],
   "source": [
    "val_lynx_id = val_lynxDataset.compute_new_lynx_id(train_lynxDataset)\n",
    "test_lynx_id = test_lynxDataset.compute_new_lynx_id(train_lynxDataset)"
   ]
  },
  {
   "cell_type": "code",
   "execution_count": 25,
   "id": "9a8af453-5192-4316-b1cc-b68acc24a61c",
   "metadata": {
    "tags": []
   },
   "outputs": [],
   "source": [
    "# Check that we have new individuals\n",
    "assert \"New\" in test_lynx_id\n",
    "assert \"New\" in val_lynx_id"
   ]
  },
  {
   "cell_type": "markdown",
   "id": "92a821ea-be75-489e-984b-ce26ed7af19c",
   "metadata": {},
   "source": [
    "## **KNN**"
   ]
  },
  {
   "cell_type": "code",
   "execution_count": 26,
   "id": "dbd4ba01-6fd2-4dd4-96db-a4c727f8f074",
   "metadata": {
    "tags": []
   },
   "outputs": [],
   "source": [
    "train_lynx_infos = train_lynxDataset.dataframe[['lynx_id', 'date', 'location', 'filepath']].copy()\n",
    "\n",
    "clustering_model = ClusteringModel(\n",
    "    embeddings_knowledge=train_embeddings,\n",
    "    lynx_infos_knowledge=train_lynx_infos,\n",
    "    n_neighbors=5,\n",
    "    algorithm=\"brute\",\n",
    "    metric=\"minkowski\",\n",
    ")"
   ]
  },
  {
   "cell_type": "markdown",
   "id": "4d9f6418-c84f-464b-8b79-743b3f9b1905",
   "metadata": {},
   "source": [
    "### Validation set"
   ]
  },
  {
   "cell_type": "markdown",
   "id": "86a41d49-55ea-4c57-a894-20bc1233c3f2",
   "metadata": {},
   "source": [
    "First, we cluster our validation set. This will allow us to evaluate its accuracy without detecting any new candidates.  \n",
    "**Then, to detect new individuals, we'll test different thresholds to find the best one. This will be used to evaluate the test set.**"
   ]
  },
  {
   "cell_type": "code",
   "execution_count": 27,
   "id": "3edf6165-a458-4fb2-873a-1ad45420168d",
   "metadata": {
    "tags": []
   },
   "outputs": [],
   "source": [
    "# Nearest Neighbors\n",
    "val_candidates_nearest_neighbors = clustering_model.clustering(val_embeddings)"
   ]
  },
  {
   "cell_type": "code",
   "execution_count": 28,
   "id": "f990946a-59b3-43c1-9719-25746008b131",
   "metadata": {
    "tags": []
   },
   "outputs": [],
   "source": [
    "top_k = (1, 2, 3, 4, 5)\n",
    "\n",
    "val_eval_metrics = EvalMetrics(\n",
    "    candidates_nearest_neighbors=clustering_model.candidates_nearest_neighbors,\n",
    "    lynx_id_true=val_lynx_id,\n",
    "    top_k=top_k\n",
    ")"
   ]
  },
  {
   "cell_type": "code",
   "execution_count": 29,
   "id": "92cde255-30ee-41de-bc37-796e0dff2ca6",
   "metadata": {
    "tags": []
   },
   "outputs": [
    {
     "name": "stdout",
     "output_type": "stream",
     "text": [
      "Accuracy 1-KNN: 0.034968431277319086\n"
     ]
    }
   ],
   "source": [
    "accuracy_no_threshold = val_eval_metrics.compute_accuracy(lynx_id_predicted=clustering_model.one_knn())\n",
    "print(f\"Accuracy 1-KNN: {accuracy_no_threshold}\")"
   ]
  },
  {
   "cell_type": "code",
   "execution_count": 30,
   "id": "70b70fc5-063e-4f47-a684-066549c13e63",
   "metadata": {
    "scrolled": true,
    "tags": []
   },
   "outputs": [
    {
     "data": {
      "text/plain": [
       "0.0"
      ]
     },
     "execution_count": 30,
     "metadata": {},
     "output_type": "execute_result"
    }
   ],
   "source": [
    "val_best_threshold = val_eval_metrics.get_best_threshold(\n",
    "    clustering_model=clustering_model,\n",
    "    min_threshold=0,\n",
    "    max_threshold=50,\n",
    "    step=0.1\n",
    ")\n",
    "val_best_threshold"
   ]
  },
  {
   "cell_type": "markdown",
   "id": "ff5909b8-e317-4f74-a151-9dc9d779c476",
   "metadata": {},
   "source": [
    "We do a visual check and calculate the precision/recall for the New individual."
   ]
  },
  {
   "cell_type": "code",
   "execution_count": 31,
   "id": "fe64e75a-527a-483a-aed5-1a2af5329bfb",
   "metadata": {
    "tags": []
   },
   "outputs": [],
   "source": [
    "thresholds = np.arange(val_best_threshold-10, val_best_threshold+10+0.5, 0.5)\n",
    "\n",
    "score_threshold = {'precision': [], 'recall': [], 'accuracy': []}\n",
    "\n",
    "for threshold in thresholds:\n",
    "    candidates_predicted_new_individual = clustering_model.check_new_individual(\n",
    "        candidates_predicted=clustering_model.one_knn(),\n",
    "        threshold=threshold,\n",
    "    )\n",
    "    \n",
    "    precision_recall = val_eval_metrics.precision_recall_individual(\n",
    "        candidates_predicted=candidates_predicted_new_individual, \n",
    "        individual_name=\"New\",\n",
    "        verbose=False\n",
    "    )\n",
    "\n",
    "    accuracy_threshold = val_eval_metrics.compute_accuracy(\n",
    "        lynx_id_predicted=candidates_predicted_new_individual,\n",
    "    )\n",
    "    \n",
    "    score_threshold['precision'].append(precision_recall['precision'])\n",
    "    score_threshold['recall'].append(precision_recall['recall'])\n",
    "    score_threshold['accuracy'].append(accuracy_threshold)"
   ]
  },
  {
   "cell_type": "code",
   "execution_count": 32,
   "id": "02c58782-fbde-4ada-9f44-eec0a349e268",
   "metadata": {
    "tags": []
   },
   "outputs": [
    {
     "data": {
      "image/png": "[encoded data removed]",
      "text/plain": [
       "<Figure size 2000x600 with 1 Axes>"
      ]
     },
     "metadata": {},
     "output_type": "display_data"
    }
   ],
   "source": [
    "plot_multiple_bar(\n",
    "    values=score_threshold,\n",
    "    x_values=thresholds,\n",
    "    xlabel=\"Threshold\",\n",
    "    ylabel=\"Score\",\n",
    "    title=\"Searching for the best threshold by measuring precision and recall for the New individual\"\n",
    ")"
   ]
  },
  {
   "cell_type": "markdown",
   "id": "88cf965b-1c8e-4860-ae10-d89d34b4987e",
   "metadata": {},
   "source": [
    "### Test set"
   ]
  },
  {
   "cell_type": "markdown",
   "id": "400ccfc4-acf3-410f-aa45-96c5ff626443",
   "metadata": {},
   "source": [
    "#### CMC@k, mAP@k\n",
    "We use the `open-metric-learning` module, which offers ready-made implementations of **CMC@k** and **mAP@k**.\n",
    "\n",
    "Before calculating the metrics, we need to **adapt `candidates_nearest_neighbors` to the detection of new individuals after our calculation with confidence intervals**. Candidate i, if detected as new, will have \"New\" as its nearest neighbour, then its neighbours calculated via KNN will be shifted by 1. The last one is therefore forgotten.  \n",
    "\n",
    "Example:  \n",
    "candidate i: `[\"A\", \"B\", \"C\", \"D\"]` detected as New -> `[\"New\", \"A\", \"B\", \"C\", \"D\"]`"
   ]
  },
  {
   "cell_type": "code",
   "execution_count": 33,
   "id": "69e0a9de-56aa-4062-8fdf-1c059e86f9ec",
   "metadata": {
    "tags": []
   },
   "outputs": [],
   "source": [
    "top_k = (1, 2, 3, 4, 5)\n",
    "\n",
    "clustering_model.clustering(test_embeddings)\n",
    "\n",
    "test_eval_metrics = EvalMetrics(\n",
    "    candidates_nearest_neighbors=clustering_model.candidates_nearest_neighbors,\n",
    "    lynx_id_true=test_lynx_id,\n",
    "    top_k=top_k\n",
    ")"
   ]
  },
  {
   "cell_type": "markdown",
   "id": "c5358306-939b-40c2-b730-feb1cb0a0df8",
   "metadata": {},
   "source": [
    "Computation of accuracy without detection of new candidates with 1-KNN."
   ]
  },
  {
   "cell_type": "code",
   "execution_count": 34,
   "id": "f6883012-338e-4ad6-a741-0920c8f69dcd",
   "metadata": {
    "tags": []
   },
   "outputs": [
    {
     "name": "stdout",
     "output_type": "stream",
     "text": [
      "Accuracy 1-KNN no threshold : 0.021773555027711798\n",
      "Accuracy 1-KNN no threshold + no new : 0.024477080551846907\n"
     ]
    }
   ],
   "source": [
    "accuracy_no_threshold = test_eval_metrics.compute_accuracy(lynx_id_predicted=clustering_model.one_knn())\n",
    "print(f\"Accuracy 1-KNN no threshold : {accuracy_no_threshold}\")\n",
    "\n",
    "accuracy_no_threshold_no_new = test_eval_metrics.compute_accuracy(lynx_id_predicted=clustering_model.one_knn(), no_new=True)\n",
    "print(f\"Accuracy 1-KNN no threshold + no new : {accuracy_no_threshold_no_new}\")"
   ]
  },
  {
   "cell_type": "markdown",
   "id": "e681a556-1c9b-4556-a184-c2cb146d1521",
   "metadata": {},
   "source": [
    "#### Ideal threshold\n",
    "\n",
    "We won't be using it to evaluate our test set. We'll use the one obtained from the validation set."
   ]
  },
  {
   "cell_type": "code",
   "execution_count": 35,
   "id": "656dc285-7f3e-4470-b85d-04dcc238fc99",
   "metadata": {
    "tags": []
   },
   "outputs": [
    {
     "data": {
      "text/plain": [
       "0.0"
      ]
     },
     "execution_count": 35,
     "metadata": {},
     "output_type": "execute_result"
    }
   ],
   "source": [
    "theorical_best_threshold = test_eval_metrics.get_best_threshold(\n",
    "    clustering_model=clustering_model,\n",
    "    min_threshold=0.0,\n",
    "    max_threshold=1.0,\n",
    "    step=0.0001\n",
    ")\n",
    "theorical_best_threshold"
   ]
  },
  {
   "cell_type": "code",
   "execution_count": 36,
   "id": "170ca1b6-49fb-4822-b309-1ada0c916c9a",
   "metadata": {
    "tags": []
   },
   "outputs": [],
   "source": [
    "thresholds = np.arange(theorical_best_threshold-10, theorical_best_threshold+10+0.5, 0.5)\n",
    "\n",
    "score_threshold = {'precision': [], 'recall': [], 'accuracy': []}\n",
    "\n",
    "for threshold in thresholds:\n",
    "    candidates_predicted_new_individual = clustering_model.check_new_individual(\n",
    "        candidates_predicted=clustering_model.one_knn(),\n",
    "        threshold=threshold,\n",
    "    )\n",
    "    \n",
    "    precision_recall = test_eval_metrics.precision_recall_individual(\n",
    "        candidates_predicted=candidates_predicted_new_individual, \n",
    "        individual_name=\"New\",\n",
    "        verbose=False\n",
    "    )\n",
    "\n",
    "    accuracy_threshold = test_eval_metrics.compute_accuracy(\n",
    "        lynx_id_predicted=candidates_predicted_new_individual,\n",
    "    )\n",
    "    \n",
    "    score_threshold['precision'].append(precision_recall['precision'])\n",
    "    score_threshold['recall'].append(precision_recall['recall'])\n",
    "    score_threshold['accuracy'].append(accuracy_threshold)"
   ]
  },
  {
   "cell_type": "code",
   "execution_count": 37,
   "id": "c2ab8d44-c076-4fb5-a6ce-efe49a27c59d",
   "metadata": {
    "tags": []
   },
   "outputs": [
    {
     "data": {
      "image/png": "[encoded data removed]",
      "text/plain": [
       "<Figure size 2000x600 with 1 Axes>"
      ]
     },
     "metadata": {},
     "output_type": "display_data"
    }
   ],
   "source": [
    "plot_multiple_bar(\n",
    "    values=score_threshold,\n",
    "    x_values=thresholds,\n",
    "    xlabel=\"Threshold\",\n",
    "    ylabel=\"Score\",\n",
    "    title=\"Searching for the best threshold by measuring precision and recall for the New individual\"\n",
    ")"
   ]
  },
  {
   "cell_type": "markdown",
   "id": "5265ed2f-acc8-4993-861e-945a65f53a4b",
   "metadata": {},
   "source": [
    "#### Metric computation"
   ]
  },
  {
   "cell_type": "code",
   "execution_count": 38,
   "id": "8ee5d51d-1124-41f3-9b37-0ac5fb1864f8",
   "metadata": {
    "tags": []
   },
   "outputs": [],
   "source": [
    "cmc_values = {}\n",
    "map_values = {}"
   ]
  },
  {
   "cell_type": "code",
   "execution_count": 39,
   "id": "f04926df-07ae-4205-9a5e-8df044f62ed2",
   "metadata": {
    "tags": []
   },
   "outputs": [
    {
     "name": "stdout",
     "output_type": "stream",
     "text": [
      "-------------------------------------------------- New individual based on threshold --------------------------------------------------\n",
      "Threshold used: 0.0\n",
      "\n",
      "New individual predicted 2526 times (total number of images: 2526). In reality, the New individual appears 279 times.\n",
      "{'precision': 0.11045130641330166, 'recall': 1.0}\n",
      "Accuracy 1-KNN threshold: 0.11045130641330166\n",
      "cmc_k_mean={1: 0.11, 2: 0.132, 3: 0.149, 4: 0.165, 5: 0.179}\n",
      "map_k_mean={1: 0.11, 2: 0.121, 3: 0.127, 4: 0.131, 5: 0.134}\n"
     ]
    }
   ],
   "source": [
    "### Threshold ###\n",
    "print(\"-\"*50, \"New individual based on threshold\", \"-\"*50)\n",
    "print(f\"Threshold used: {val_best_threshold}\\n\")\n",
    "candidates_predicted_new_individual = clustering_model.check_new_individual(\n",
    "    embeddings=test_embeddings,\n",
    "    candidates_predicted=clustering_model.one_knn(),\n",
    "    threshold=val_best_threshold,\n",
    ")\n",
    "\n",
    "precision_recall = test_eval_metrics.precision_recall_individual(\n",
    "    candidates_predicted=candidates_predicted_new_individual, \n",
    "    individual_name=\"New\",\n",
    "    verbose=True\n",
    ")\n",
    "print(precision_recall)\n",
    "\n",
    "accuracy_threshold = test_eval_metrics.compute_accuracy(\n",
    "    lynx_id_predicted=candidates_predicted_new_individual,\n",
    ")\n",
    "print(f\"Accuracy 1-KNN threshold: {accuracy_threshold}\")\n",
    "\n",
    "\n",
    "# CMC@k + mAP@k\n",
    "candidates_nearest_neighbors_new = clustering_model.compute_candidates_nearest_neighbors_new(\n",
    "    candidates_predicted_new_individual=candidates_predicted_new_individual\n",
    ")\n",
    "test_eval_metrics.candidates_nearest_neighbors = candidates_nearest_neighbors_new\n",
    "cmc_k_mean, map_k_mean = test_eval_metrics.compute_cmc_map_metrics()\n",
    "print(f\"{cmc_k_mean=}\")\n",
    "print(f\"{map_k_mean=}\")\n",
    "cmc_values['threshold'] = list(cmc_k_mean.values())\n",
    "map_values['threshold'] = list(map_k_mean.values())"
   ]
  },
  {
   "cell_type": "markdown",
   "id": "5a39cc97-5778-4522-bb59-f67368ddcada",
   "metadata": {},
   "source": [
    "#### Unbalanced evaluation ?"
   ]
  },
  {
   "cell_type": "code",
   "execution_count": 40,
   "id": "f9e8c047-4a8e-46ab-9e24-01c9eb2991d6",
   "metadata": {},
   "outputs": [],
   "source": [
    "y_true = test_eval_metrics.lynx_id_true\n",
    "y_pred = [candidate.lynx_id for candidate in candidates_predicted_new_individual]"
   ]
  },
  {
   "cell_type": "code",
   "execution_count": 41,
   "id": "b4986dfd-b61b-4e64-9c54-abb64e47ccc9",
   "metadata": {},
   "outputs": [
    {
     "data": {
      "text/plain": [
       "array([[0, 0, 0, ..., 0, 0, 0],\n",
       "       [0, 0, 0, ..., 0, 0, 0],\n",
       "       [0, 0, 0, ..., 0, 0, 0],\n",
       "       ...,\n",
       "       [0, 0, 0, ..., 0, 0, 0],\n",
       "       [0, 0, 0, ..., 0, 0, 0],\n",
       "       [0, 0, 0, ..., 0, 0, 0]])"
      ]
     },
     "execution_count": 41,
     "metadata": {},
     "output_type": "execute_result"
    }
   ],
   "source": [
    "from sklearn.metrics import confusion_matrix\n",
    "\n",
    "confusion_matrix = confusion_matrix(y_true, y_pred)\n",
    "confusion_matrix"
   ]
  },
  {
   "cell_type": "code",
   "execution_count": 42,
   "id": "e02ec0bd-d4e0-44c5-abfd-7cbf3d7ce48c",
   "metadata": {},
   "outputs": [
    {
     "data": {
      "text/html": [
       "<div>\n",
       "<style scoped>\n",
       "    .dataframe tbody tr th:only-of-type {\n",
       "        vertical-align: middle;\n",
       "    }\n",
       "\n",
       "    .dataframe tbody tr th {\n",
       "        vertical-align: top;\n",
       "    }\n",
       "\n",
       "    .dataframe thead th {\n",
       "        text-align: right;\n",
       "    }\n",
       "</style>\n",
       "<table border=\"1\" class=\"dataframe\">\n",
       "  <thead>\n",
       "    <tr style=\"text-align: right;\">\n",
       "      <th></th>\n",
       "      <th>accuracy</th>\n",
       "      <th>number of images</th>\n",
       "    </tr>\n",
       "  </thead>\n",
       "  <tbody>\n",
       "    <tr>\n",
       "      <th>0</th>\n",
       "      <td>0.0</td>\n",
       "      <td>1</td>\n",
       "    </tr>\n",
       "    <tr>\n",
       "      <th>1</th>\n",
       "      <td>0.0</td>\n",
       "      <td>1</td>\n",
       "    </tr>\n",
       "    <tr>\n",
       "      <th>2</th>\n",
       "      <td>0.0</td>\n",
       "      <td>1</td>\n",
       "    </tr>\n",
       "    <tr>\n",
       "      <th>3</th>\n",
       "      <td>0.0</td>\n",
       "      <td>1</td>\n",
       "    </tr>\n",
       "    <tr>\n",
       "      <th>4</th>\n",
       "      <td>0.0</td>\n",
       "      <td>6</td>\n",
       "    </tr>\n",
       "    <tr>\n",
       "      <th>...</th>\n",
       "      <td>...</td>\n",
       "      <td>...</td>\n",
       "    </tr>\n",
       "    <tr>\n",
       "      <th>667</th>\n",
       "      <td>0.0</td>\n",
       "      <td>7</td>\n",
       "    </tr>\n",
       "    <tr>\n",
       "      <th>668</th>\n",
       "      <td>0.0</td>\n",
       "      <td>13</td>\n",
       "    </tr>\n",
       "    <tr>\n",
       "      <th>669</th>\n",
       "      <td>0.0</td>\n",
       "      <td>1</td>\n",
       "    </tr>\n",
       "    <tr>\n",
       "      <th>670</th>\n",
       "      <td>0.0</td>\n",
       "      <td>2</td>\n",
       "    </tr>\n",
       "    <tr>\n",
       "      <th>671</th>\n",
       "      <td>0.0</td>\n",
       "      <td>1</td>\n",
       "    </tr>\n",
       "  </tbody>\n",
       "</table>\n",
       "<p>672 rows × 2 columns</p>\n",
       "</div>"
      ],
      "text/plain": [
       "     accuracy  number of images\n",
       "0         0.0                 1\n",
       "1         0.0                 1\n",
       "2         0.0                 1\n",
       "3         0.0                 1\n",
       "4         0.0                 6\n",
       "..        ...               ...\n",
       "667       0.0                 7\n",
       "668       0.0                13\n",
       "669       0.0                 1\n",
       "670       0.0                 2\n",
       "671       0.0                 1\n",
       "\n",
       "[672 rows x 2 columns]"
      ]
     },
     "execution_count": 42,
     "metadata": {},
     "output_type": "execute_result"
    }
   ],
   "source": [
    "with np.errstate(divide=\"ignore\", invalid=\"ignore\"):\n",
    "    per_class = np.diag(confusion_matrix) / confusion_matrix.sum(axis=1)\n",
    "    per_class = [(value, row_sum) for value, row_sum in zip(per_class, confusion_matrix.sum(axis=1))]\n",
    "\n",
    "per_class_df = pd.DataFrame(per_class, columns=['accuracy', 'number of images'])\n",
    "per_class_df"
   ]
  },
  {
   "cell_type": "markdown",
   "id": "9b6ad7cf-ac77-40f6-b84c-afbf2856cf32",
   "metadata": {},
   "source": [
    "Note: NaN accuracy with a number of images equal to 0, perhaps caused by the fact that our model predicts a lynx_id not present in the test set. This was present in the training set, so it can predict it."
   ]
  },
  {
   "cell_type": "markdown",
   "id": "d85db51d-021e-4a95-bca1-3c29eac09d15",
   "metadata": {},
   "source": [
    "#### Balanced accuracy\n",
    "\n",
    "To avoid giving too much importance to certain very present lynx_ids."
   ]
  },
  {
   "cell_type": "code",
   "execution_count": 43,
   "id": "babd55ca-f205-455c-b373-aaa804dc3614",
   "metadata": {},
   "outputs": [
    {
     "data": {
      "text/plain": [
       "0.001488095238095238"
      ]
     },
     "execution_count": 43,
     "metadata": {},
     "output_type": "execute_result"
    }
   ],
   "source": [
    "per_class_score = [score[0] for score in per_class]\n",
    "\n",
    "balanced_accuracy = np.mean(np.nan_to_num(per_class_score, nan=0))\n",
    "balanced_accuracy"
   ]
  },
  {
   "cell_type": "code",
   "execution_count": 44,
   "id": "22312a9f-b8fd-4a38-84c6-2ab31eb731ff",
   "metadata": {},
   "outputs": [
    {
     "name": "stdout",
     "output_type": "stream",
     "text": [
      "Precision score (unweighted/macro): 0.00016436206311503223\n",
      "Recall score (unweighted/macro): 0.001488095238095238\n"
     ]
    }
   ],
   "source": [
    "from sklearn.metrics import precision_score, recall_score\n",
    "\n",
    "print(f\"Precision score (unweighted/macro): {precision_score(y_true, y_pred, average='macro', zero_division=0)}\")\n",
    "print(f\"Recall score (unweighted/macro): {recall_score(y_true, y_pred, average='macro', zero_division=0)}\")"
   ]
  },
  {
   "cell_type": "markdown",
   "id": "56486486-c3b3-41d8-afe2-1a8b91ba40ab",
   "metadata": {},
   "source": [
    "#### Accuracy without taking “New” images into account "
   ]
  },
  {
   "cell_type": "code",
   "execution_count": 45,
   "id": "351e4329-9ca2-4e64-a5be-4c438af78c57",
   "metadata": {},
   "outputs": [
    {
     "data": {
      "text/plain": [
       "0.0"
      ]
     },
     "execution_count": 45,
     "metadata": {},
     "output_type": "execute_result"
    }
   ],
   "source": [
    "y_true_array = np.array(y_true)\n",
    "y_pred_array = np.array(y_pred)\n",
    "\n",
    "known = y_true_array != \"New\"\n",
    "\n",
    "np.mean(y_true_array[known] == y_pred_array[known])"
   ]
  },
  {
   "cell_type": "markdown",
   "id": "d4a22e18-a21b-440f-a98b-39a893ef9ad2",
   "metadata": {},
   "source": [
    "#### Accuracy taking only “New” images into account "
   ]
  },
  {
   "cell_type": "code",
   "execution_count": 46,
   "id": "4b75d385-cfac-4e18-a49f-a376ea38fd01",
   "metadata": {},
   "outputs": [
    {
     "data": {
      "text/plain": [
       "1.0"
      ]
     },
     "execution_count": 46,
     "metadata": {},
     "output_type": "execute_result"
    }
   ],
   "source": [
    "unknown = y_true_array == \"New\"\n",
    "np.mean(y_true_array[unknown] == y_pred_array[unknown])  # = recall New"
   ]
  },
  {
   "cell_type": "markdown",
   "id": "03068053-1707-45e5-8ea7-9933f365e3de",
   "metadata": {},
   "source": [
    "#### Detection of new candidates using the Gaussian method\n",
    "\n",
    "Based on the Gaussian distribution of the clusters in the train."
   ]
  },
  {
   "cell_type": "code",
   "execution_count": 47,
   "id": "36e48732-bff7-4716-9be3-46b661a98bbb",
   "metadata": {
    "tags": []
   },
   "outputs": [
    {
     "name": "stdout",
     "output_type": "stream",
     "text": [
      "\n",
      " -------------------------------------------------- New individual based on gaussian --------------------------------------------------\n",
      "************************************************** 0.68 **************************************************\n"
     ]
    },
    {
     "name": "stderr",
     "output_type": "stream",
     "text": [
      "  0%|          | 1/732 [00:00<02:38,  4.61it/s]/gpfsdswork/projects/rech/ads/uxp55sd/DP-SCR_Identify-and-estimate-density-lynx-population/lynx_id/model/clustering.py:156: UserWarning: var(): degrees of freedom is <= 0. Correction should be strictly less than the reduction factor (input numel divided by output numel). (Triggered internally at ../aten/src/ATen/native/ReduceOps.cpp:1808.)\n",
      "  self.cluster_variances[lynx] = torch.var(self.embeddings_knowledge[lynx_idx], dim=0).tolist()\n",
      "100%|##########| 732/732 [00:00<00:00, 1055.33it/s]\n",
      "compute_confidence_intervals:  22%|##1       | 160/732 [00:00<00:00, 1599.56it/s]/gpfslocalsup/pub/anaconda-py3/2023.09/envs/pytorch-gpu-2.3.0+py3.11.5/lib/python3.11/site-packages/scipy/stats/_distn_infrastructure.py:2246: RuntimeWarning: invalid value encountered in multiply\n",
      "  lower_bound = _a * scale + loc\n",
      "/gpfslocalsup/pub/anaconda-py3/2023.09/envs/pytorch-gpu-2.3.0+py3.11.5/lib/python3.11/site-packages/scipy/stats/_distn_infrastructure.py:2247: RuntimeWarning: invalid value encountered in multiply\n",
      "  upper_bound = _b * scale + loc\n",
      "compute_confidence_intervals: 100%|##########| 732/732 [00:00<00:00, 1881.49it/s]\n"
     ]
    },
    {
     "name": "stdout",
     "output_type": "stream",
     "text": [
      "Accuracy 1_knn: 0.06769596199524941\n",
      "cmc_k_mean={1: 0.068, 2: 0.087, 3: 0.105, 4: 0.117, 5: 0.133}\n",
      "map_k_mean={1: 0.068, 2: 0.077, 3: 0.083, 4: 0.086, 5: 0.089}\n"
     ]
    },
    {
     "name": "stderr",
     "output_type": "stream",
     "text": [
      "compute_confidence_intervals:   0%|          | 0/732 [00:00<?, ?it/s]/gpfslocalsup/pub/anaconda-py3/2023.09/envs/pytorch-gpu-2.3.0+py3.11.5/lib/python3.11/site-packages/scipy/stats/_distn_infrastructure.py:2246: RuntimeWarning: invalid value encountered in multiply\n",
      "  lower_bound = _a * scale + loc\n",
      "/gpfslocalsup/pub/anaconda-py3/2023.09/envs/pytorch-gpu-2.3.0+py3.11.5/lib/python3.11/site-packages/scipy/stats/_distn_infrastructure.py:2247: RuntimeWarning: invalid value encountered in multiply\n",
      "  upper_bound = _b * scale + loc\n",
      "compute_confidence_intervals: 100%|##########| 732/732 [00:00<00:00, 2003.35it/s]\n"
     ]
    },
    {
     "name": "stdout",
     "output_type": "stream",
     "text": [
      "Accuracy 5_knn: 0.06967537608867776\n",
      "cmc_k_mean={1: 0.069, 2: 0.088, 3: 0.105, 4: 0.118, 5: 0.134}\n",
      "map_k_mean={1: 0.069, 2: 0.078, 3: 0.084, 4: 0.087, 5: 0.09}\n",
      "************************************************** 0.95 **************************************************\n"
     ]
    },
    {
     "name": "stderr",
     "output_type": "stream",
     "text": [
      "compute_confidence_intervals:   0%|          | 0/732 [00:00<?, ?it/s]/gpfslocalsup/pub/anaconda-py3/2023.09/envs/pytorch-gpu-2.3.0+py3.11.5/lib/python3.11/site-packages/scipy/stats/_distn_infrastructure.py:2246: RuntimeWarning: invalid value encountered in multiply\n",
      "  lower_bound = _a * scale + loc\n",
      "/gpfslocalsup/pub/anaconda-py3/2023.09/envs/pytorch-gpu-2.3.0+py3.11.5/lib/python3.11/site-packages/scipy/stats/_distn_infrastructure.py:2247: RuntimeWarning: invalid value encountered in multiply\n",
      "  upper_bound = _b * scale + loc\n",
      "compute_confidence_intervals: 100%|##########| 732/732 [00:00<00:00, 1875.28it/s]\n"
     ]
    },
    {
     "name": "stdout",
     "output_type": "stream",
     "text": [
      "Accuracy 1_knn: 0.030482977038796516\n",
      "cmc_k_mean={1: 0.03, 2: 0.048, 3: 0.063, 4: 0.078, 5: 0.092}\n",
      "map_k_mean={1: 0.03, 2: 0.039, 3: 0.044, 4: 0.048, 5: 0.05}\n"
     ]
    },
    {
     "name": "stderr",
     "output_type": "stream",
     "text": [
      "compute_confidence_intervals:   0%|          | 0/732 [00:00<?, ?it/s]/gpfslocalsup/pub/anaconda-py3/2023.09/envs/pytorch-gpu-2.3.0+py3.11.5/lib/python3.11/site-packages/scipy/stats/_distn_infrastructure.py:2246: RuntimeWarning: invalid value encountered in multiply\n",
      "  lower_bound = _a * scale + loc\n",
      "/gpfslocalsup/pub/anaconda-py3/2023.09/envs/pytorch-gpu-2.3.0+py3.11.5/lib/python3.11/site-packages/scipy/stats/_distn_infrastructure.py:2247: RuntimeWarning: invalid value encountered in multiply\n",
      "  upper_bound = _b * scale + loc\n",
      "compute_confidence_intervals: 100%|##########| 732/732 [00:00<00:00, 1950.80it/s]\n"
     ]
    },
    {
     "name": "stdout",
     "output_type": "stream",
     "text": [
      "Accuracy 5_knn: 0.03285827395091053\n",
      "cmc_k_mean={1: 0.03, 2: 0.048, 3: 0.063, 4: 0.078, 5: 0.091}\n",
      "map_k_mean={1: 0.03, 2: 0.039, 3: 0.044, 4: 0.047, 5: 0.05}\n",
      "************************************************** 0.997 **************************************************\n"
     ]
    },
    {
     "name": "stderr",
     "output_type": "stream",
     "text": [
      "compute_confidence_intervals:   0%|          | 0/732 [00:00<?, ?it/s]/gpfslocalsup/pub/anaconda-py3/2023.09/envs/pytorch-gpu-2.3.0+py3.11.5/lib/python3.11/site-packages/scipy/stats/_distn_infrastructure.py:2246: RuntimeWarning: invalid value encountered in multiply\n",
      "  lower_bound = _a * scale + loc\n",
      "/gpfslocalsup/pub/anaconda-py3/2023.09/envs/pytorch-gpu-2.3.0+py3.11.5/lib/python3.11/site-packages/scipy/stats/_distn_infrastructure.py:2247: RuntimeWarning: invalid value encountered in multiply\n",
      "  upper_bound = _b * scale + loc\n",
      "compute_confidence_intervals: 100%|##########| 732/732 [00:00<00:00, 1941.91it/s]\n"
     ]
    },
    {
     "name": "stdout",
     "output_type": "stream",
     "text": [
      "Accuracy 1_knn: 0.023752969121140142\n",
      "cmc_k_mean={1: 0.024, 2: 0.04, 3: 0.056, 4: 0.07, 5: 0.085}\n",
      "map_k_mean={1: 0.024, 2: 0.032, 3: 0.037, 4: 0.04, 5: 0.043}\n"
     ]
    },
    {
     "name": "stderr",
     "output_type": "stream",
     "text": [
      "compute_confidence_intervals:   0%|          | 0/732 [00:00<?, ?it/s]/gpfslocalsup/pub/anaconda-py3/2023.09/envs/pytorch-gpu-2.3.0+py3.11.5/lib/python3.11/site-packages/scipy/stats/_distn_infrastructure.py:2246: RuntimeWarning: invalid value encountered in multiply\n",
      "  lower_bound = _a * scale + loc\n",
      "/gpfslocalsup/pub/anaconda-py3/2023.09/envs/pytorch-gpu-2.3.0+py3.11.5/lib/python3.11/site-packages/scipy/stats/_distn_infrastructure.py:2247: RuntimeWarning: invalid value encountered in multiply\n",
      "  upper_bound = _b * scale + loc\n",
      "compute_confidence_intervals: 100%|##########| 732/732 [00:00<00:00, 1948.74it/s]\n"
     ]
    },
    {
     "name": "stdout",
     "output_type": "stream",
     "text": [
      "Accuracy 5_knn: 0.026128266033254157\n",
      "cmc_k_mean={1: 0.023, 2: 0.04, 3: 0.056, 4: 0.07, 5: 0.085}\n",
      "map_k_mean={1: 0.023, 2: 0.032, 3: 0.037, 4: 0.04, 5: 0.043}\n"
     ]
    }
   ],
   "source": [
    "### Gaussian ###\n",
    "print(\"\\n\", \"-\"*50, \"New individual based on gaussian\", \"-\"*50)\n",
    "\n",
    "accuracy_list = []\n",
    "n_neighbors=5\n",
    "confidence_levels = [0.68, 0.95, 0.997]\n",
    "\n",
    "for confidence in confidence_levels:\n",
    "    print(\"*\"*50, confidence, \"*\"*50)\n",
    "    results = []\n",
    "    for k, prediction in {\"1_knn\": clustering_model.one_knn(), f\"{n_neighbors}_knn\": clustering_model.n_knn()}.items():\n",
    "        clustering_model.clustering(test_embeddings)\n",
    "        candidates_predicted_new_individual = clustering_model.check_new_individual(\n",
    "            embeddings=test_embeddings,\n",
    "            candidates_predicted=prediction,\n",
    "            success_percentage_threshold=80,\n",
    "            confidence=confidence\n",
    "        )\n",
    "        \n",
    "        accuracy = test_eval_metrics.compute_accuracy(\n",
    "            lynx_id_predicted=candidates_predicted_new_individual,\n",
    "        )\n",
    "        print(f\"Accuracy {k}: {accuracy}\")\n",
    "        results.append(accuracy)\n",
    "        \n",
    "        candidates_nearest_neighbors_new = clustering_model.compute_candidates_nearest_neighbors_new(\n",
    "            candidates_predicted_new_individual=candidates_predicted_new_individual\n",
    "        )\n",
    "        test_eval_metrics.candidates_nearest_neighbors = candidates_nearest_neighbors_new\n",
    "    \n",
    "        # CMC@k + mAP@k\n",
    "        cmc_k_mean, map_k_mean = test_eval_metrics.compute_cmc_map_metrics()\n",
    "        print(f\"{cmc_k_mean=}\")\n",
    "        print(f\"{map_k_mean=}\")\n",
    "        \n",
    "        if k == \"1_knn\":\n",
    "            cmc_values[confidence] = list(cmc_k_mean.values())\n",
    "            map_values[confidence] = list(map_k_mean.values())\n",
    "\n",
    "    \n",
    "    accuracy_list.append(results)"
   ]
  },
  {
   "cell_type": "markdown",
   "id": "55615f21-60a1-415a-9c6c-5ba225516da5",
   "metadata": {},
   "source": [
    "### Plot results"
   ]
  },
  {
   "cell_type": "markdown",
   "id": "a6d06394-9e3a-46ad-84e5-96c095887878",
   "metadata": {},
   "source": [
    "#### CMC@k"
   ]
  },
  {
   "cell_type": "code",
   "execution_count": 48,
   "id": "e9285b20-d160-4766-9dca-16a3febbed68",
   "metadata": {
    "tags": []
   },
   "outputs": [
    {
     "data": {
      "image/png": "[encoded data removed]",
      "text/plain": [
       "<Figure size 2000x600 with 1 Axes>"
      ]
     },
     "metadata": {},
     "output_type": "display_data"
    }
   ],
   "source": [
    "# CMC@k\n",
    "plot_multiple_bar(\n",
    "    values=cmc_values,\n",
    "    x_values=top_k,\n",
    "    xlabel='k',\n",
    "    ylabel='Score',\n",
    "    title='CMC@k'\n",
    ")"
   ]
  },
  {
   "cell_type": "markdown",
   "id": "d93e50eb-51b4-442d-8c61-215411aaeee0",
   "metadata": {},
   "source": [
    "#### mAP@k"
   ]
  },
  {
   "cell_type": "code",
   "execution_count": 49,
   "id": "f334fd83-5601-4d3f-93fd-0959689e01c6",
   "metadata": {
    "tags": []
   },
   "outputs": [
    {
     "data": {
      "image/png": "[encoded data removed]",
      "text/plain": [
       "<Figure size 2000x600 with 1 Axes>"
      ]
     },
     "metadata": {},
     "output_type": "display_data"
    }
   ],
   "source": [
    "# mAP@k\n",
    "plot_multiple_bar(\n",
    "    values=map_values,\n",
    "    x_values=top_k,\n",
    "    xlabel='k',\n",
    "    ylabel='Score',\n",
    "    title='mAP@k'\n",
    ")"
   ]
  },
  {
   "cell_type": "markdown",
   "id": "4acfb81c-24dd-43ba-b293-1be1fd512e5b",
   "metadata": {},
   "source": [
    "#### Accuracy\n",
    "\n",
    "To compare the candidate's choice between 1-knn and n-knn. If n-knn, the lynx_id of the current image will be the one found most often among the neighbours."
   ]
  },
  {
   "cell_type": "code",
   "execution_count": 50,
   "id": "486656da-ed78-48e3-bba5-5525cc8defca",
   "metadata": {
    "tags": []
   },
   "outputs": [
    {
     "data": {
      "image/png": "[encoded data removed]",
      "text/plain": [
       "<Figure size 1500x500 with 1 Axes>"
      ]
     },
     "metadata": {},
     "output_type": "display_data"
    }
   ],
   "source": [
    "# Accuracy plot\n",
    "accuracy_list_t = list(zip(*accuracy_list))\n",
    "\n",
    "plt.rcParams[\"figure.figsize\"] = (15,5)\n",
    "fig, ax = plt.subplots()\n",
    "\n",
    "width = 0.35\n",
    "\n",
    "# Gaussian\n",
    "bar1 = ax.bar(range(len(accuracy_list)), accuracy_list_t[0], width=width, label='1-knn')\n",
    "bar2 = ax.bar([x + width for x in range(len(accuracy_list))], accuracy_list_t[1], width=width, label=f'{n_neighbors}-knn')\n",
    "\n",
    "# Classic threshold\n",
    "ax.axhline(y=accuracy_threshold, color='r', linestyle='--', label=f'Accuracy Threshold ({accuracy_threshold:.2f})')\n",
    "ax.legend()\n",
    "\n",
    "# No threshold\n",
    "ax.axhline(y=accuracy_no_threshold, color='g', linestyle='--', label=f'Accuracy No Threshold ({accuracy_no_threshold:.2f})')\n",
    "ax.legend()\n",
    "\n",
    "ax.legend()\n",
    "\n",
    "ax.set_xticks([x + width / 2 for x in range(len(accuracy_list))])\n",
    "ax.set_xticklabels(confidence_levels)\n",
    "ax.set_xlabel('Confidence level')\n",
    "ax.set_ylabel('Accuracy')\n",
    "ax.set_title('Accuracy as a function of sigma standard deviations')\n",
    "\n",
    "ax.legend()\n",
    "\n",
    "def add_text_labels(bars):\n",
    "    for bar in bars:\n",
    "        height = bar.get_height()\n",
    "        ax.text(bar.get_x() + bar.get_width() / 2, height, f'{height:.2f}', ha='center', va='bottom')\n",
    "\n",
    "add_text_labels(bar1)\n",
    "add_text_labels(bar2)\n",
    "\n",
    "plt.show()"
   ]
  }
 ],
 "metadata": {
  "kernelspec": {
   "display_name": "pytorch-gpu-2.3.0_py3.11.5",
   "language": "python",
   "name": "module-conda-env-pytorch-gpu-2.3.0_py3.11.5"
  },
  "language_info": {
   "file_extension": ".py",
   "mimetype": "text/x-python",
   "name": "python",
   "version": "3.11.7"
  }
 },
 "nbformat": 4,
 "nbformat_minor": 5
}
