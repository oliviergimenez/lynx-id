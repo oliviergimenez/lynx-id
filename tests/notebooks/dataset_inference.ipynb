{
 "cells": [
  {
   "cell_type": "markdown",
   "id": "6a605019-2110-4e0e-b53d-37a1df38cdc2",
   "metadata": {},
   "source": [
    "# **User guide: using lynx-id**\n",
    "\n",
    "The purpose of this notebook is to show how to use lynx_id."
   ]
  },
  {
   "cell_type": "code",
   "execution_count": 1,
   "id": "31e27261-4158-4c4b-b26c-f022b84c3214",
   "metadata": {
    "tags": []
   },
   "outputs": [
    {
     "name": "stdout",
     "output_type": "stream",
     "text": [
      "Updated on 2025-01-03.\n"
     ]
    }
   ],
   "source": [
    "import datetime\n",
    "\n",
    "print(f\"Updated on {datetime.datetime.now().date()}.\")"
   ]
  },
  {
   "cell_type": "markdown",
   "id": "e200e173-9bed-4a5f-974a-87957057fbec",
   "metadata": {
    "tags": []
   },
   "source": [
    "**Before starting this guide, make sure you have installed lynx_id**.\n",
    "\n",
    "*The next cell automatically reloads the libraries if they are updated. This is only useful for debugging purposes.*"
   ]
  },
  {
   "cell_type": "code",
   "execution_count": 2,
   "id": "eadda6d9-034e-4142-9ebd-e935aa3d6a41",
   "metadata": {
    "tags": []
   },
   "outputs": [],
   "source": [
    "# Allow reloading of libraries without restarting the kernel\n",
    "%load_ext autoreload\n",
    "%autoreload 2"
   ]
  },
  {
   "cell_type": "markdown",
   "id": "253aa804-04f2-4da9-bb1e-3a268e6e94a2",
   "metadata": {
    "tags": []
   },
   "source": [
    "First, a few imports needed for the demo."
   ]
  },
  {
   "cell_type": "code",
   "execution_count": 3,
   "id": "6fa305f8-9920-43aa-b18c-dee45a87732c",
   "metadata": {
    "tags": []
   },
   "outputs": [],
   "source": [
    "import os\n",
    "import torch\n",
    "import pandas as pd\n",
    "import matplotlib.pyplot as plt\n",
    "import numpy as np\n",
    "\n",
    "from safetensors import safe_open\n",
    "from safetensors.torch import save_file\n",
    "from pathlib import Path\n",
    "from PIL import Image"
   ]
  },
  {
   "cell_type": "markdown",
   "id": "03939bcd-d361-4326-b4e0-3c92113509e5",
   "metadata": {},
   "source": [
    "## **Resources**\n",
    "\n",
    "What resources do we have? GPU (cuda) or CPU?"
   ]
  },
  {
   "cell_type": "code",
   "execution_count": 4,
   "id": "6b3b6338-85bb-4e99-b5ad-5e1081cbea62",
   "metadata": {
    "tags": []
   },
   "outputs": [
    {
     "name": "stdout",
     "output_type": "stream",
     "text": [
      "DEVICE='cuda'\n"
     ]
    }
   ],
   "source": [
    "DEVICE = \"cuda\" if torch.cuda.is_available() else \"cpu\"\n",
    "print(f\"{DEVICE=}\")"
   ]
  },
  {
   "cell_type": "markdown",
   "id": "3f2b6d59-7845-4e0c-aeec-219bfcadd322",
   "metadata": {},
   "source": [
    "Initialize a path to the demo resources."
   ]
  },
  {
   "cell_type": "code",
   "execution_count": 5,
   "id": "71a60cca-efd4-4c9a-ac8f-914c024524bb",
   "metadata": {
    "tags": []
   },
   "outputs": [],
   "source": [
    "RESOURCES = Path(\"../../lynx_id/resources\")"
   ]
  },
  {
   "cell_type": "markdown",
   "id": "e0170eef-fcec-4754-9abf-fdc922e67107",
   "metadata": {},
   "source": [
    "## **Knowledge base**\n",
    "\n",
    "To predict the individuals in our new images, we need to have a knowledge base.\n",
    "\n",
    "This requires **2 files**:\n",
    "- a file in **csv** format containing information about our individuals (`lynx_id`, `filepath`, `location`, `date`)\n",
    "- a file in **safetensors** format containing the embeddings of our individuals. This file is necessary for the algorithms behind it.\n",
    "\n",
    "For an index in the embedding matrix, the same index in the csv file provides the associated information.\n",
    "\n",
    "Let's see what it looks like. First, we open the information file in csv format."
   ]
  },
  {
   "cell_type": "code",
   "execution_count": 6,
   "id": "9f755595-e243-4698-a2a9-354c2b899659",
   "metadata": {
    "tags": []
   },
   "outputs": [
    {
     "name": "stdout",
     "output_type": "stream",
     "text": [
      "(8714, 4)\n"
     ]
    },
    {
     "data": {
      "text/html": [
       "<div>\n",
       "<style scoped>\n",
       "    .dataframe tbody tr th:only-of-type {\n",
       "        vertical-align: middle;\n",
       "    }\n",
       "\n",
       "    .dataframe tbody tr th {\n",
       "        vertical-align: top;\n",
       "    }\n",
       "\n",
       "    .dataframe thead th {\n",
       "        text-align: right;\n",
       "    }\n",
       "</style>\n",
       "<table border=\"1\" class=\"dataframe\">\n",
       "  <thead>\n",
       "    <tr style=\"text-align: right;\">\n",
       "      <th></th>\n",
       "      <th>filepath</th>\n",
       "      <th>lynx_id</th>\n",
       "      <th>date</th>\n",
       "      <th>location</th>\n",
       "    </tr>\n",
       "  </thead>\n",
       "  <tbody>\n",
       "    <tr>\n",
       "      <th>0</th>\n",
       "      <td>/lustre/fsn1/projects/rech/ads/commun/datasets...</td>\n",
       "      <td>11_DE</td>\n",
       "      <td>NaN</td>\n",
       "      <td>NaN</td>\n",
       "    </tr>\n",
       "    <tr>\n",
       "      <th>1</th>\n",
       "      <td>/lustre/fsn1/projects/rech/ads/commun/datasets...</td>\n",
       "      <td>11_DE</td>\n",
       "      <td>NaN</td>\n",
       "      <td>NaN</td>\n",
       "    </tr>\n",
       "    <tr>\n",
       "      <th>2</th>\n",
       "      <td>/lustre/fsn1/projects/rech/ads/commun/datasets...</td>\n",
       "      <td>11_DE</td>\n",
       "      <td>NaN</td>\n",
       "      <td>NaN</td>\n",
       "    </tr>\n",
       "    <tr>\n",
       "      <th>3</th>\n",
       "      <td>/lustre/fsn1/projects/rech/ads/commun/datasets...</td>\n",
       "      <td>11_DE</td>\n",
       "      <td>NaN</td>\n",
       "      <td>NaN</td>\n",
       "    </tr>\n",
       "    <tr>\n",
       "      <th>4</th>\n",
       "      <td>/lustre/fsn1/projects/rech/ads/commun/datasets...</td>\n",
       "      <td>11_DE</td>\n",
       "      <td>NaN</td>\n",
       "      <td>NaN</td>\n",
       "    </tr>\n",
       "  </tbody>\n",
       "</table>\n",
       "</div>"
      ],
      "text/plain": [
       "                                            filepath lynx_id date location\n",
       "0  /lustre/fsn1/projects/rech/ads/commun/datasets...   11_DE  NaN      NaN\n",
       "1  /lustre/fsn1/projects/rech/ads/commun/datasets...   11_DE  NaN      NaN\n",
       "2  /lustre/fsn1/projects/rech/ads/commun/datasets...   11_DE  NaN      NaN\n",
       "3  /lustre/fsn1/projects/rech/ads/commun/datasets...   11_DE  NaN      NaN\n",
       "4  /lustre/fsn1/projects/rech/ads/commun/datasets...   11_DE  NaN      NaN"
      ]
     },
     "execution_count": 6,
     "metadata": {},
     "output_type": "execute_result"
    }
   ],
   "source": [
    "knowledge_informations = pd.read_csv(RESOURCES/ \"knowledge_db/informations.csv\")\n",
    "print(knowledge_informations.shape)\n",
    "knowledge_informations.head()"
   ]
  },
  {
   "cell_type": "code",
   "execution_count": 7,
   "id": "b3354516-0a00-45c6-a083-b6a514865fb5",
   "metadata": {
    "tags": []
   },
   "outputs": [
    {
     "data": {
      "text/plain": [
       "torch.Size([8714, 1536])"
      ]
     },
     "execution_count": 7,
     "metadata": {},
     "output_type": "execute_result"
    }
   ],
   "source": [
    "with safe_open(RESOURCES / \"knowledge_db/embeddings.safetensors\", framework=\"pt\", device=\"cpu\") as f:\n",
    "    knowledge_embeddings = f.get_tensor(\"embeddings\")\n",
    "knowledge_embeddings.shape"
   ]
  },
  {
   "cell_type": "code",
   "execution_count": 8,
   "id": "215a445b-c196-4a44-bef5-9f4e0e598bdf",
   "metadata": {
    "tags": []
   },
   "outputs": [],
   "source": [
    "assert knowledge_embeddings.shape[0] == knowledge_informations.shape[0]"
   ]
  },
  {
   "cell_type": "markdown",
   "id": "610b7f0b-d606-457d-82d5-43bc7810228b",
   "metadata": {},
   "source": [
    "Our two files are the same size (same number of images). "
   ]
  },
  {
   "cell_type": "markdown",
   "id": "1ac357d7-2756-4aa3-8c0b-c08ff21757d0",
   "metadata": {},
   "source": [
    "## **Individual prediction**\n",
    "\n",
    "### **Image display**"
   ]
  },
  {
   "cell_type": "markdown",
   "id": "d8287e97-3b3f-4ea5-9668-a006e0e5fe58",
   "metadata": {},
   "source": [
    "We're going to start with a folder containing 2 images."
   ]
  },
  {
   "cell_type": "code",
   "execution_count": 9,
   "id": "88592987-411b-4a80-8ead-ab2b1a73eaa7",
   "metadata": {
    "tags": []
   },
   "outputs": [],
   "source": [
    "folder_images = RESOURCES / \"data\""
   ]
  },
  {
   "cell_type": "code",
   "execution_count": 10,
   "id": "a092857c-f343-46d2-bca6-d3b1d782afbc",
   "metadata": {
    "tags": []
   },
   "outputs": [
    {
     "name": "stdout",
     "output_type": "stream",
     "text": [
      "['B439_OCS_NA_2017-09-20_NA_4.JPG', '2327_OFB_OCELLES_2021-04-17_Saint-Gorgon-Main_2.jpg']\n"
     ]
    },
    {
     "data": {
      "image/png": "[encoded data removed]",
      "text/plain": [
       "<Figure size 1000x500 with 2 Axes>"
      ]
     },
     "metadata": {},
     "output_type": "display_data"
    }
   ],
   "source": [
    "images = [f for f in os.listdir(folder_images) if os.path.isfile(RESOURCES / \"data\" / f)]\n",
    "print(images)\n",
    "\n",
    "fig, axes = plt.subplots(1, 2, figsize=(10, 5))\n",
    "\n",
    "img1 = Image.open(os.path.join(folder_images, images[0]))\n",
    "axes[0].imshow(img1)\n",
    "axes[0].axis('off')\n",
    "\n",
    "img2 = Image.open(os.path.join(folder_images, images[1]))\n",
    "axes[1].imshow(img2)\n",
    "axes[1].axis('off')\n",
    "\n",
    "plt.show()"
   ]
  },
  {
   "cell_type": "markdown",
   "id": "2aeda7ee-ce94-47e6-9f3a-46498a7d8bee",
   "metadata": {},
   "source": [
    "### **Inference script**"
   ]
  },
  {
   "cell_type": "markdown",
   "id": "798c9b4b-83b1-483e-80a6-95ec26ec103d",
   "metadata": {},
   "source": [
    "We're going to give our images to our individual recognition model.\n",
    "\n",
    "To do this, a configuration file (`yaml`) must be initialized. It should contain the following parameters:\n",
    "- `model-architecture`: foundation model architecture (Megadescriptor or DINOv2)\n",
    "- `model-weights-path`: path to the embeddings model\n",
    "- `input-data`: path to the folder containing the images, or a `csv` file containing at least a `filepath` column indicating where the images are located\n",
    "- `output-informations-path`: output file (`csv`) containing information after prediction. Its content is presented later in the notebook.\n",
    "- `output-embeddings-path`: output files containing information after prediction. This file will allow us to update our embeddings database containing all our images.\n",
    "- `knowledge_informations_path`: This file (`csv`) contains information on all the images in our knowledge base. The information stored are:\n",
    "  - `filepath`: path to current image\n",
    "  - `lynx_id`: individual on the image\n",
    "  - `location`: place where the photo was taken\n",
    "  - `date`: date on which the photo was taken\n",
    "- `knowledge_embeddings_path`: This file (`safetensors`) contains embeddings on all the images in our knowledge base. These embeddings are used to detect the individual closest to the current image or to detect a new individual.\n",
    "- `threshold`: if the distance of the individual closest to our image is greater than `threshold` then we consider it to be a new individual.\n",
    "\n",
    "This file is initialized with resources located in `lynx_id/resources`. Only the model is not included. It must be retrieved in another way.\n",
    "\n",
    "**For a full description of the parameter set, use the following command:**"
   ]
  },
  {
   "cell_type": "code",
   "execution_count": 11,
   "id": "b121df51-7081-411e-8324-2d8346d00771",
   "metadata": {},
   "outputs": [
    {
     "name": "stdout",
     "output_type": "stream",
     "text": []
    },
    {
     "name": "stdout",
     "output_type": "stream",
     "text": []
    },
    {
     "name": "stdout",
     "output_type": "stream",
     "text": []
    },
    {
     "name": "stdout",
     "output_type": "stream",
     "text": []
    },
    {
     "name": "stdout",
     "output_type": "stream",
     "text": []
    },
    {
     "name": "stdout",
     "output_type": "stream",
     "text": []
    },
    {
     "name": "stdout",
     "output_type": "stream",
     "text": []
    },
    {
     "name": "stdout",
     "output_type": "stream",
     "text": []
    },
    {
     "name": "stdout",
     "output_type": "stream",
     "text": []
    },
    {
     "name": "stdout",
     "output_type": "stream",
     "text": []
    },
    {
     "name": "stdout",
     "output_type": "stream",
     "text": []
    },
    {
     "name": "stdout",
     "output_type": "stream",
     "text": []
    },
    {
     "name": "stdout",
     "output_type": "stream",
     "text": []
    },
    {
     "name": "stdout",
     "output_type": "stream",
     "text": []
    },
    {
     "name": "stdout",
     "output_type": "stream",
     "text": []
    },
    {
     "name": "stdout",
     "output_type": "stream",
     "text": []
    },
    {
     "name": "stdout",
     "output_type": "stream",
     "text": []
    },
    {
     "name": "stdout",
     "output_type": "stream",
     "text": []
    },
    {
     "name": "stdout",
     "output_type": "stream",
     "text": []
    },
    {
     "name": "stdout",
     "output_type": "stream",
     "text": []
    },
    {
     "name": "stdout",
     "output_type": "stream",
     "text": []
    },
    {
     "name": "stdout",
     "output_type": "stream",
     "text": []
    },
    {
     "name": "stdout",
     "output_type": "stream",
     "text": []
    },
    {
     "name": "stdout",
     "output_type": "stream",
     "text": []
    },
    {
     "name": "stdout",
     "output_type": "stream",
     "text": []
    },
    {
     "name": "stdout",
     "output_type": "stream",
     "text": []
    },
    {
     "name": "stdout",
     "output_type": "stream",
     "text": []
    },
    {
     "name": "stdout",
     "output_type": "stream",
     "text": []
    },
    {
     "name": "stdout",
     "output_type": "stream",
     "text": []
    },
    {
     "name": "stdout",
     "output_type": "stream",
     "text": []
    },
    {
     "name": "stdout",
     "output_type": "stream",
     "text": []
    },
    {
     "name": "stdout",
     "output_type": "stream",
     "text": []
    },
    {
     "name": "stdout",
     "output_type": "stream",
     "text": []
    },
    {
     "name": "stdout",
     "output_type": "stream",
     "text": []
    },
    {
     "name": "stdout",
     "output_type": "stream",
     "text": []
    },
    {
     "name": "stdout",
     "output_type": "stream",
     "text": []
    },
    {
     "name": "stdout",
     "output_type": "stream",
     "text": []
    },
    {
     "name": "stdout",
     "output_type": "stream",
     "text": []
    },
    {
     "name": "stdout",
     "output_type": "stream",
     "text": []
    },
    {
     "name": "stdout",
     "output_type": "stream",
     "text": []
    },
    {
     "name": "stdout",
     "output_type": "stream",
     "text": []
    },
    {
     "name": "stdout",
     "output_type": "stream",
     "text": []
    },
    {
     "name": "stdout",
     "output_type": "stream",
     "text": []
    },
    {
     "name": "stdout",
     "output_type": "stream",
     "text": []
    },
    {
     "name": "stdout",
     "output_type": "stream",
     "text": []
    },
    {
     "name": "stdout",
     "output_type": "stream",
     "text": []
    },
    {
     "name": "stdout",
     "output_type": "stream",
     "text": []
    },
    {
     "name": "stdout",
     "output_type": "stream",
     "text": []
    },
    {
     "name": "stdout",
     "output_type": "stream",
     "text": []
    },
    {
     "name": "stdout",
     "output_type": "stream",
     "text": []
    },
    {
     "name": "stdout",
     "output_type": "stream",
     "text": []
    },
    {
     "name": "stdout",
     "output_type": "stream",
     "text": []
    },
    {
     "name": "stdout",
     "output_type": "stream",
     "text": []
    },
    {
     "name": "stdout",
     "output_type": "stream",
     "text": []
    },
    {
     "name": "stdout",
     "output_type": "stream",
     "text": []
    },
    {
     "name": "stdout",
     "output_type": "stream",
     "text": []
    },
    {
     "name": "stdout",
     "output_type": "stream",
     "text": []
    },
    {
     "name": "stdout",
     "output_type": "stream",
     "text": []
    },
    {
     "name": "stdout",
     "output_type": "stream",
     "text": []
    },
    {
     "name": "stdout",
     "output_type": "stream",
     "text": []
    },
    {
     "name": "stdout",
     "output_type": "stream",
     "text": []
    },
    {
     "name": "stdout",
     "output_type": "stream",
     "text": []
    },
    {
     "name": "stdout",
     "output_type": "stream",
     "text": []
    },
    {
     "name": "stdout",
     "output_type": "stream",
     "text": []
    },
    {
     "name": "stdout",
     "output_type": "stream",
     "text": []
    },
    {
     "name": "stdout",
     "output_type": "stream",
     "text": []
    },
    {
     "name": "stdout",
     "output_type": "stream",
     "text": []
    },
    {
     "name": "stdout",
     "output_type": "stream",
     "text": []
    },
    {
     "name": "stdout",
     "output_type": "stream",
     "text": []
    },
    {
     "name": "stdout",
     "output_type": "stream",
     "text": []
    },
    {
     "name": "stdout",
     "output_type": "stream",
     "text": []
    },
    {
     "name": "stdout",
     "output_type": "stream",
     "text": []
    },
    {
     "name": "stdout",
     "output_type": "stream",
     "text": []
    },
    {
     "name": "stdout",
     "output_type": "stream",
     "text": []
    },
    {
     "name": "stdout",
     "output_type": "stream",
     "text": []
    },
    {
     "name": "stdout",
     "output_type": "stream",
     "text": []
    },
    {
     "name": "stdout",
     "output_type": "stream",
     "text": []
    },
    {
     "name": "stdout",
     "output_type": "stream",
     "text": []
    },
    {
     "name": "stdout",
     "output_type": "stream",
     "text": []
    },
    {
     "name": "stdout",
     "output_type": "stream",
     "text": []
    },
    {
     "name": "stdout",
     "output_type": "stream",
     "text": []
    },
    {
     "name": "stdout",
     "output_type": "stream",
     "text": []
    },
    {
     "name": "stdout",
     "output_type": "stream",
     "text": []
    },
    {
     "name": "stdout",
     "output_type": "stream",
     "text": []
    },
    {
     "name": "stdout",
     "output_type": "stream",
     "text": [
      "Model directory set to: /lustre/fswork/projects/rech/fpb/commun/models\n",
      "usage: __main__.py [-h] --model-architecture {resnet,dinov2,megadescriptor}\n",
      "                   --model-weights-path MODEL_WEIGHTS_PATH\n",
      "                   [--image-size IMAGE_SIZE] --input-data INPUT_DATA\n",
      "                   --output-informations-path OUTPUT_INFORMATIONS_PATH\n",
      "                   --output-embeddings-path OUTPUT_EMBEDDINGS_PATH\n",
      "                   --knowledge-embeddings-path KNOWLEDGE_EMBEDDINGS_PATH\n",
      "                   --knowledge-informations-path KNOWLEDGE_INFORMATIONS_PATH\n",
      "                   [--threshold THRESHOLD] [--batch-size BATCH_SIZE]\n",
      "                   [--num-workers NUM_WORKERS]\n",
      "                   [--megadetector-model-path MEGADETECTOR_MODEL_PATH]\n",
      "                   [--sam-model-path SAM_MODEL_PATH] [--skip-megadetector-sam]\n",
      "\n",
      "Inference script.\n",
      "\n",
      "options:\n",
      "  -h, --help            show this help message and exit\n",
      "  --model-architecture {resnet,dinov2,megadescriptor}\n",
      "                        Model architecture of the foundation model.\n",
      "  --model-weights-path MODEL_WEIGHTS_PATH\n",
      "                        Path to trained model weights.\n",
      "  --image-size IMAGE_SIZE\n",
      "                        Image size\n",
      "  --input-data INPUT_DATA\n",
      "                        Path to folder containing images (at least one image)\n",
      "                        or .csv file (columns: filepath, optional columns:\n",
      "                        date, location).\n",
      "  --output-informations-path OUTPUT_INFORMATIONS_PATH\n",
      "                        Path to output .csv file.\n",
      "  --output-embeddings-path OUTPUT_EMBEDDINGS_PATH\n",
      "                        Path to which the embeddings of our new images will be\n",
      "                        saved\n",
      "  --knowledge-embeddings-path KNOWLEDGE_EMBEDDINGS_PATH\n",
      "                        Path to the file containing the knowledge base of all\n",
      "                        our known individuals in `safetensors` format\n",
      "                        (embeddings torch.tensor).\n",
      "  --knowledge-informations-path KNOWLEDGE_INFORMATIONS_PATH\n",
      "                        Path to a .csv file containing information about the\n",
      "                        lynx in our knowledge base.\n",
      "  --threshold THRESHOLD\n",
      "                        Distance threshold at which the lynx in the image is\n",
      "                        considered to be a new individual.\n",
      "  --batch-size BATCH_SIZE\n",
      "                        Number of images to load per batch. Choose a number 2\n",
      "                        to the nth power. A large number could saturate your\n",
      "                        memory and cause the inference to crash.\n",
      "  --num-workers NUM_WORKERS\n",
      "                        How many subprocesses to use for data loading. 0 means\n",
      "                        that the data will be loaded in the main process.\n",
      "                        (default: 0)\n",
      "  --megadetector-model-path MEGADETECTOR_MODEL_PATH\n",
      "  --sam-model-path SAM_MODEL_PATH\n",
      "  --skip-megadetector-sam\n",
      "                        If enabled, avoids images passing through megadetector\n",
      "                        and SAM.\n"
     ]
    }
   ],
   "source": [
    "!python -m lynx_id infer --help"
   ]
  },
  {
   "cell_type": "code",
   "execution_count": 12,
   "id": "23a3dc9c-a902-42d5-a54a-bb7115f75ae9",
   "metadata": {
    "tags": []
   },
   "outputs": [
    {
     "name": "stdout",
     "output_type": "stream",
     "text": [
      "Overwriting config_infer.yaml\n"
     ]
    }
   ],
   "source": [
    "%%writefile config_infer.yaml\n",
    "model-architecture: megadescriptor\n",
    "model-weights-path: /lustre/fswork/projects/rech/ads/commun/kg_tests/experiments/megad_noswiss_full/2024-12-17_22-20-21/model_best_0.019.pth\n",
    "image-size: 384\n",
    "input-data: ../../lynx_id/resources/data\n",
    "output-informations-path: ../../lynx_id/resources/results/result_informations.csv\n",
    "output-embeddings-path: ../../lynx_id/resources/results/result_embeddings.safetensors\n",
    "knowledge-informations-path: ../../lynx_id/resources/knowledge_db/informations.csv\n",
    "knowledge-embeddings-path: ../../lynx_id/resources/knowledge_db/embeddings.safetensors\n",
    "threshold: 0.05  # The value has been set to this specific value to detect a new individual."
   ]
  },
  {
   "cell_type": "markdown",
   "id": "aa8a3ba3-9142-42e8-ac7c-ad57a81730eb",
   "metadata": {},
   "source": [
    "We can then simply run our inference script."
   ]
  },
  {
   "cell_type": "code",
   "execution_count": 13,
   "id": "1819e9ed-5a51-4abe-af00-7b369c5dbc38",
   "metadata": {
    "tags": []
   },
   "outputs": [
    {
     "name": "stdout",
     "output_type": "stream",
     "text": []
    },
    {
     "name": "stdout",
     "output_type": "stream",
     "text": []
    },
    {
     "name": "stdout",
     "output_type": "stream",
     "text": []
    },
    {
     "name": "stdout",
     "output_type": "stream",
     "text": []
    },
    {
     "name": "stdout",
     "output_type": "stream",
     "text": []
    },
    {
     "name": "stdout",
     "output_type": "stream",
     "text": []
    },
    {
     "name": "stdout",
     "output_type": "stream",
     "text": []
    },
    {
     "name": "stdout",
     "output_type": "stream",
     "text": []
    },
    {
     "name": "stdout",
     "output_type": "stream",
     "text": []
    },
    {
     "name": "stdout",
     "output_type": "stream",
     "text": []
    },
    {
     "name": "stdout",
     "output_type": "stream",
     "text": []
    },
    {
     "name": "stdout",
     "output_type": "stream",
     "text": []
    },
    {
     "name": "stdout",
     "output_type": "stream",
     "text": []
    },
    {
     "name": "stdout",
     "output_type": "stream",
     "text": []
    },
    {
     "name": "stdout",
     "output_type": "stream",
     "text": []
    },
    {
     "name": "stdout",
     "output_type": "stream",
     "text": []
    },
    {
     "name": "stdout",
     "output_type": "stream",
     "text": []
    },
    {
     "name": "stdout",
     "output_type": "stream",
     "text": []
    },
    {
     "name": "stdout",
     "output_type": "stream",
     "text": []
    },
    {
     "name": "stdout",
     "output_type": "stream",
     "text": []
    },
    {
     "name": "stdout",
     "output_type": "stream",
     "text": []
    },
    {
     "name": "stdout",
     "output_type": "stream",
     "text": []
    },
    {
     "name": "stdout",
     "output_type": "stream",
     "text": []
    },
    {
     "name": "stdout",
     "output_type": "stream",
     "text": []
    },
    {
     "name": "stdout",
     "output_type": "stream",
     "text": []
    },
    {
     "name": "stdout",
     "output_type": "stream",
     "text": []
    },
    {
     "name": "stdout",
     "output_type": "stream",
     "text": []
    },
    {
     "name": "stdout",
     "output_type": "stream",
     "text": []
    },
    {
     "name": "stdout",
     "output_type": "stream",
     "text": []
    },
    {
     "name": "stdout",
     "output_type": "stream",
     "text": []
    },
    {
     "name": "stdout",
     "output_type": "stream",
     "text": []
    },
    {
     "name": "stdout",
     "output_type": "stream",
     "text": []
    },
    {
     "name": "stdout",
     "output_type": "stream",
     "text": []
    },
    {
     "name": "stdout",
     "output_type": "stream",
     "text": []
    },
    {
     "name": "stdout",
     "output_type": "stream",
     "text": []
    },
    {
     "name": "stdout",
     "output_type": "stream",
     "text": []
    },
    {
     "name": "stdout",
     "output_type": "stream",
     "text": []
    },
    {
     "name": "stdout",
     "output_type": "stream",
     "text": []
    },
    {
     "name": "stdout",
     "output_type": "stream",
     "text": []
    },
    {
     "name": "stdout",
     "output_type": "stream",
     "text": []
    },
    {
     "name": "stdout",
     "output_type": "stream",
     "text": []
    },
    {
     "name": "stdout",
     "output_type": "stream",
     "text": []
    },
    {
     "name": "stdout",
     "output_type": "stream",
     "text": []
    },
    {
     "name": "stdout",
     "output_type": "stream",
     "text": []
    },
    {
     "name": "stdout",
     "output_type": "stream",
     "text": []
    },
    {
     "name": "stdout",
     "output_type": "stream",
     "text": []
    },
    {
     "name": "stdout",
     "output_type": "stream",
     "text": []
    },
    {
     "name": "stdout",
     "output_type": "stream",
     "text": []
    },
    {
     "name": "stdout",
     "output_type": "stream",
     "text": []
    },
    {
     "name": "stdout",
     "output_type": "stream",
     "text": []
    },
    {
     "name": "stdout",
     "output_type": "stream",
     "text": []
    },
    {
     "name": "stdout",
     "output_type": "stream",
     "text": []
    },
    {
     "name": "stdout",
     "output_type": "stream",
     "text": []
    },
    {
     "name": "stdout",
     "output_type": "stream",
     "text": []
    },
    {
     "name": "stdout",
     "output_type": "stream",
     "text": []
    },
    {
     "name": "stdout",
     "output_type": "stream",
     "text": []
    },
    {
     "name": "stdout",
     "output_type": "stream",
     "text": []
    },
    {
     "name": "stdout",
     "output_type": "stream",
     "text": []
    },
    {
     "name": "stdout",
     "output_type": "stream",
     "text": []
    },
    {
     "name": "stdout",
     "output_type": "stream",
     "text": []
    },
    {
     "name": "stdout",
     "output_type": "stream",
     "text": []
    },
    {
     "name": "stdout",
     "output_type": "stream",
     "text": []
    },
    {
     "name": "stdout",
     "output_type": "stream",
     "text": []
    },
    {
     "name": "stdout",
     "output_type": "stream",
     "text": []
    },
    {
     "name": "stdout",
     "output_type": "stream",
     "text": []
    },
    {
     "name": "stdout",
     "output_type": "stream",
     "text": []
    },
    {
     "name": "stdout",
     "output_type": "stream",
     "text": []
    },
    {
     "name": "stdout",
     "output_type": "stream",
     "text": []
    },
    {
     "name": "stdout",
     "output_type": "stream",
     "text": []
    },
    {
     "name": "stdout",
     "output_type": "stream",
     "text": []
    },
    {
     "name": "stdout",
     "output_type": "stream",
     "text": []
    },
    {
     "name": "stdout",
     "output_type": "stream",
     "text": []
    },
    {
     "name": "stdout",
     "output_type": "stream",
     "text": []
    },
    {
     "name": "stdout",
     "output_type": "stream",
     "text": []
    },
    {
     "name": "stdout",
     "output_type": "stream",
     "text": []
    },
    {
     "name": "stdout",
     "output_type": "stream",
     "text": []
    },
    {
     "name": "stdout",
     "output_type": "stream",
     "text": []
    },
    {
     "name": "stdout",
     "output_type": "stream",
     "text": []
    },
    {
     "name": "stdout",
     "output_type": "stream",
     "text": []
    },
    {
     "name": "stdout",
     "output_type": "stream",
     "text": []
    },
    {
     "name": "stdout",
     "output_type": "stream",
     "text": []
    },
    {
     "name": "stdout",
     "output_type": "stream",
     "text": []
    },
    {
     "name": "stdout",
     "output_type": "stream",
     "text": []
    },
    {
     "name": "stdout",
     "output_type": "stream",
     "text": []
    },
    {
     "name": "stdout",
     "output_type": "stream",
     "text": [
      "Model directory set to: /lustre/fswork/projects/rech/fpb/commun/models\n",
      "\u001b[1m#################### This is the infer script. ####################\u001b[0m\n",
      "\u001b[1mDEVICE='cuda'\u001b[0m\n",
      "\u001b[1mPreprocessing images...\u001b[0m\n",
      "\u001b[1mMegadetector preprocessing\u001b[0m\n",
      "PyTorch reports 1 available CUDA devices\n",
      "GPU available: True\n",
      "Imported YOLOv5 as utils.*\n",
      "Using PyTorch version 2.1.1+cu121\n",
      "Fusing layers... \n",
      "Fusing layers... \n",
      "Model summary: 733 layers, 140054656 parameters, 0 gradients, 208.8 GFLOPs\n",
      "Model summary: 733 layers, 140054656 parameters, 0 gradients, 208.8 GFLOPs\n",
      "Sending model to GPU\n",
      "Loaded model in 3.87 seconds\n",
      "Loaded model in 3.87 seconds\n",
      "100%|█████████████████████████████████████████████| 2/2 [00:00<00:00,  5.01it/s]\n",
      "\u001b[1mSAM preprocessing\u001b[0m\n",
      "Preprocesing images: 100%|████████████████████████| 2/2 [00:01<00:00,  1.95it/s]\n",
      "\u001b[1mEnd preprocessing (total time: 9.25s)\u001b[0m\n",
      "/lustre/fswork/projects/rech/ads/uxp55sd/.local_lynx/lib/python3.11/site-packages/torch/functional.py:504: UserWarning: torch.meshgrid: in an upcoming release, it will be required to pass the indexing argument. (Triggered internally at ../aten/src/ATen/native/TensorShape.cpp:3526.)\n",
      "  return _VF.meshgrid(tensors, **kwargs)  # type: ignore[attr-defined]\n",
      "Loading pretrained weights from file (/lustre/fswork/projects/rech/ads/commun/models/MegaDescriptor-L-384/pytorch_model.bin)\n",
      "Loading pretrained weights from file (/lustre/fswork/projects/rech/ads/commun/models/MegaDescriptor-L-384/pytorch_model.bin)\n",
      "Loaded model from checkpoint '/lustre/fswork/projects/rech/ads/commun/models/MegaDescriptor-L-384/pytorch_model.bin'\n",
      "Loaded model from checkpoint '/lustre/fswork/projects/rech/ads/commun/models/MegaDescriptor-L-384/pytorch_model.bin'\n",
      "Compute embeddings: 100%|█████████████████████████| 2/2 [00:00<00:00, 43.17it/s]\n",
      "\u001b[1m#################### End of inference (total time: 12.39s). ####################\n",
      "Results written here: ../../lynx_id/resources/results/result_informations.csv & ../../lynx_id/resources/results/result_embeddings.safetensors\u001b[0m\n"
     ]
    }
   ],
   "source": [
    "!python -m lynx_id infer --config config_infer.yaml"
   ]
  },
  {
   "cell_type": "markdown",
   "id": "ea4049a6-af7e-4d28-922c-21ee37ff338e",
   "metadata": {},
   "source": [
    "Let's look at the information result file generated."
   ]
  },
  {
   "cell_type": "code",
   "execution_count": 14,
   "id": "46d26056-592e-41ce-b604-782c2b160e44",
   "metadata": {
    "tags": []
   },
   "outputs": [
    {
     "data": {
      "text/html": [
       "<div>\n",
       "<style scoped>\n",
       "    .dataframe tbody tr th:only-of-type {\n",
       "        vertical-align: middle;\n",
       "    }\n",
       "\n",
       "    .dataframe tbody tr th {\n",
       "        vertical-align: top;\n",
       "    }\n",
       "\n",
       "    .dataframe thead th {\n",
       "        text-align: right;\n",
       "    }\n",
       "</style>\n",
       "<table border=\"1\" class=\"dataframe\">\n",
       "  <thead>\n",
       "    <tr style=\"text-align: right;\">\n",
       "      <th></th>\n",
       "      <th>filepath</th>\n",
       "      <th>individual_predicted</th>\n",
       "      <th>is_new</th>\n",
       "      <th>latest_picture_individual_predicted</th>\n",
       "      <th>location_closest_individual</th>\n",
       "      <th>neighbor_1</th>\n",
       "      <th>neighbor_2</th>\n",
       "      <th>neighbor_3</th>\n",
       "      <th>neighbor_4</th>\n",
       "      <th>neighbor_5</th>\n",
       "    </tr>\n",
       "  </thead>\n",
       "  <tbody>\n",
       "    <tr>\n",
       "      <th>0</th>\n",
       "      <td>/lustre/fswork/projects/rech/ads/uxp55sd/DP-SC...</td>\n",
       "      <td>439_FR</td>\n",
       "      <td>False</td>\n",
       "      <td>2017-09-20</td>\n",
       "      <td>NaN</td>\n",
       "      <td>439_FR</td>\n",
       "      <td>243_FR</td>\n",
       "      <td>243_FR</td>\n",
       "      <td>1320_FR</td>\n",
       "      <td>1131_FR</td>\n",
       "    </tr>\n",
       "    <tr>\n",
       "      <th>1</th>\n",
       "      <td>/lustre/fswork/projects/rech/ads/uxp55sd/DP-SC...</td>\n",
       "      <td>wHq9Uhzxkp</td>\n",
       "      <td>True</td>\n",
       "      <td>NaN</td>\n",
       "      <td>NaN</td>\n",
       "      <td>New</td>\n",
       "      <td>oslo_FR</td>\n",
       "      <td>1512_FR</td>\n",
       "      <td>f01-047=922_FR</td>\n",
       "      <td>f39-086=1474=1478_FR</td>\n",
       "    </tr>\n",
       "  </tbody>\n",
       "</table>\n",
       "</div>"
      ],
      "text/plain": [
       "                                            filepath individual_predicted  \\\n",
       "0  /lustre/fswork/projects/rech/ads/uxp55sd/DP-SC...               439_FR   \n",
       "1  /lustre/fswork/projects/rech/ads/uxp55sd/DP-SC...           wHq9Uhzxkp   \n",
       "\n",
       "   is_new latest_picture_individual_predicted  location_closest_individual  \\\n",
       "0   False                          2017-09-20                          NaN   \n",
       "1    True                                 NaN                          NaN   \n",
       "\n",
       "  neighbor_1 neighbor_2 neighbor_3      neighbor_4            neighbor_5  \n",
       "0     439_FR     243_FR     243_FR         1320_FR               1131_FR  \n",
       "1        New    oslo_FR    1512_FR  f01-047=922_FR  f39-086=1474=1478_FR  "
      ]
     },
     "execution_count": 14,
     "metadata": {},
     "output_type": "execute_result"
    }
   ],
   "source": [
    "results_csv = pd.read_csv(RESOURCES / \"results/result_informations.csv\")\n",
    "results_csv"
   ]
  },
  {
   "cell_type": "markdown",
   "id": "f2a63e08-0d45-4efb-87cd-5e684f50460b",
   "metadata": {},
   "source": [
    "The file generated contains the following information:\n",
    "- `filepath`: path to the processed image.\n",
    "- `individual_predicted`: predicted individual. For new individuals detected, a random character string of 10 characters is generated.\n",
    "- `is_new`: indicates whether it is a new individual or not. We can imagine cases where the `individual_predicted` generated is similar to a human name.\n",
    "- `latest_picture_individual_predicted`: for the predicted individual (and not just the nearest image), the last date on which a photo was taken of him or her in our knowledge base.\n",
    "- `location_closest_individual`: where the photo of the nearest image was taken\n",
    "- `neighbor_[12345]`: the 5 closest individuals\n",
    "\n",
    "Once the result file has been created, the user can then modify the information that will be saved in the knowledge base (`filepath`, `individual_predicted`, `location`, `date`). They can also add a location and date to each image.\n",
    "To do the whole thing in a notebook, we modify the `csv` directly with `pandas` but a simple text editor could suffice to do the same.\n",
    "\n",
    "Here, we rename the individual in the index 1 image and add a location to it."
   ]
  },
  {
   "cell_type": "code",
   "execution_count": 16,
   "id": "b75f652c-5a9f-48cd-9ddf-1aee8bad4fcb",
   "metadata": {
    "tags": []
   },
   "outputs": [
    {
     "data": {
      "text/html": [
       "<div>\n",
       "<style scoped>\n",
       "    .dataframe tbody tr th:only-of-type {\n",
       "        vertical-align: middle;\n",
       "    }\n",
       "\n",
       "    .dataframe tbody tr th {\n",
       "        vertical-align: top;\n",
       "    }\n",
       "\n",
       "    .dataframe thead th {\n",
       "        text-align: right;\n",
       "    }\n",
       "</style>\n",
       "<table border=\"1\" class=\"dataframe\">\n",
       "  <thead>\n",
       "    <tr style=\"text-align: right;\">\n",
       "      <th></th>\n",
       "      <th>filepath</th>\n",
       "      <th>individual_predicted</th>\n",
       "      <th>is_new</th>\n",
       "      <th>latest_picture_individual_predicted</th>\n",
       "      <th>location_closest_individual</th>\n",
       "      <th>neighbor_1</th>\n",
       "      <th>neighbor_2</th>\n",
       "      <th>neighbor_3</th>\n",
       "      <th>neighbor_4</th>\n",
       "      <th>neighbor_5</th>\n",
       "      <th>location</th>\n",
       "    </tr>\n",
       "  </thead>\n",
       "  <tbody>\n",
       "    <tr>\n",
       "      <th>0</th>\n",
       "      <td>/lustre/fswork/projects/rech/ads/uxp55sd/DP-SC...</td>\n",
       "      <td>439_FR</td>\n",
       "      <td>False</td>\n",
       "      <td>2017-09-20</td>\n",
       "      <td>NaN</td>\n",
       "      <td>439_FR</td>\n",
       "      <td>243_FR</td>\n",
       "      <td>243_FR</td>\n",
       "      <td>1320_FR</td>\n",
       "      <td>1131_FR</td>\n",
       "      <td>NaN</td>\n",
       "    </tr>\n",
       "    <tr>\n",
       "      <th>1</th>\n",
       "      <td>/lustre/fswork/projects/rech/ads/uxp55sd/DP-SC...</td>\n",
       "      <td>Goat</td>\n",
       "      <td>True</td>\n",
       "      <td>NaN</td>\n",
       "      <td>NaN</td>\n",
       "      <td>New</td>\n",
       "      <td>oslo_FR</td>\n",
       "      <td>1512_FR</td>\n",
       "      <td>f01-047=922_FR</td>\n",
       "      <td>f39-086=1474=1478_FR</td>\n",
       "      <td>Paris</td>\n",
       "    </tr>\n",
       "  </tbody>\n",
       "</table>\n",
       "</div>"
      ],
      "text/plain": [
       "                                            filepath individual_predicted  \\\n",
       "0  /lustre/fswork/projects/rech/ads/uxp55sd/DP-SC...               439_FR   \n",
       "1  /lustre/fswork/projects/rech/ads/uxp55sd/DP-SC...                 Goat   \n",
       "\n",
       "   is_new latest_picture_individual_predicted  location_closest_individual  \\\n",
       "0   False                          2017-09-20                          NaN   \n",
       "1    True                                 NaN                          NaN   \n",
       "\n",
       "  neighbor_1 neighbor_2 neighbor_3      neighbor_4            neighbor_5  \\\n",
       "0     439_FR     243_FR     243_FR         1320_FR               1131_FR   \n",
       "1        New    oslo_FR    1512_FR  f01-047=922_FR  f39-086=1474=1478_FR   \n",
       "\n",
       "  location  \n",
       "0      NaN  \n",
       "1    Paris  "
      ]
     },
     "execution_count": 16,
     "metadata": {},
     "output_type": "execute_result"
    }
   ],
   "source": [
    "results_csv.loc[1, 'individual_predicted'] = \"Goat\"\n",
    "results_csv.loc[1, 'location'] = \"Paris\"\n",
    "results_csv"
   ]
  },
  {
   "cell_type": "markdown",
   "id": "1052187b-e475-4dcf-a7ea-7645025d8e47",
   "metadata": {},
   "source": [
    "The updated file is saved."
   ]
  },
  {
   "cell_type": "code",
   "execution_count": 17,
   "id": "088310f0-e7f8-4b69-a345-fa0a177e4161",
   "metadata": {
    "tags": []
   },
   "outputs": [],
   "source": [
    "results_csv.to_csv(RESOURCES / \"results/result_informations.csv\", index=False)"
   ]
  },
  {
   "cell_type": "markdown",
   "id": "aa3163bb-2ff7-4a7c-bf0f-edff2f588a8e",
   "metadata": {},
   "source": [
    "Following inference, an embedding file was also generated for our images."
   ]
  },
  {
   "cell_type": "code",
   "execution_count": 18,
   "id": "94b9d8dc-0c2e-4ccb-aa7f-5d107de59e2a",
   "metadata": {
    "tags": []
   },
   "outputs": [
    {
     "data": {
      "text/plain": [
       "torch.Size([2, 1536])"
      ]
     },
     "execution_count": 18,
     "metadata": {},
     "output_type": "execute_result"
    }
   ],
   "source": [
    "with safe_open(RESOURCES / \"results/result_embeddings.safetensors\", framework=\"pt\", device=\"cpu\") as f:\n",
    "    results_embeddings = f.get_tensor(\"embeddings\")\n",
    "results_embeddings.shape"
   ]
  },
  {
   "cell_type": "markdown",
   "id": "a874c305-2780-44b2-abc9-2c0813531cbf",
   "metadata": {},
   "source": [
    "We have a matrix of size `[2, {embedding_size}]`. We have 2 embeddings, one per image, and our embeddings have a specific size; a size that depends on the model used."
   ]
  },
  {
   "cell_type": "markdown",
   "id": "1427d146-0b33-4dd4-857f-068303739370",
   "metadata": {},
   "source": [
    "## **Update knowledge base**\n",
    "\n",
    "Now we have our results, and we've even modified them a little to include some additional information. We can now update our knowledge base using the `knowledge_base` script. As with the inference script, a configuration file is required. Here are the parameters to be entered:\n",
    "- `knowledge-informations-path`: as in the inference script. This file (`csv`) contains information on all the images in our knowledge base.\n",
    "- `knowledge-embeddings-path`: as in the inference script. This file (`safetensors`) contains embeddings on all the images in our knowledge base.\n",
    "- `updated-informations-path`: path to results containing information about images in the inference script (`csv` file)\n",
    "- `updated-embeddings-path`: path to results containing embeddings about images in the inference script (`csv` file)\n",
    "- `new-knowledge-informations-path`: path to the updated information knowledge base (`csv`). If not filled in, the file is written over the current base (`knowledge-informations-path`).\n",
    "- `new-knowledge-embeddings-path`: path to the updated information knowledge base (`safetensors`). If not filled in, the file is written over the current base (`knowledge-embeddings-path`).\n",
    "\n",
    "Let's initialize this file with our data."
   ]
  },
  {
   "cell_type": "code",
   "execution_count": 19,
   "id": "decbb9b8-f209-4f7a-a66c-8a2dcca0a37b",
   "metadata": {},
   "outputs": [
    {
     "name": "stdout",
     "output_type": "stream",
     "text": [
      "Overwriting config_knowledge_base.yaml\n"
     ]
    }
   ],
   "source": [
    "%%writefile config_knowledge_base.yaml\n",
    "knowledge-informations-path: ../../lynx_id/resources/knowledge_db/informations.csv\n",
    "knowledge-embeddings-path: ../../lynx_id/resources/knowledge_db/embeddings.safetensors\n",
    "updated-informations-path: ../../lynx_id/resources/results/result_informations.csv\n",
    "updated-embeddings-path: ../../lynx_id/resources/results/result_embeddings.safetensors\n",
    "new-knowledge-informations-path: ../../lynx_id/resources/knowledge_db/new_informations.csv\n",
    "new-knowledge-embeddings-path: ../../lynx_id/resources/knowledge_db/new_embeddings.safetensors"
   ]
  },
  {
   "cell_type": "markdown",
   "id": "06e23e6a-0eae-456c-80ce-5dc56314e3bc",
   "metadata": {},
   "source": [
    "We simply run the `knowledge_base` script with this file passed as a parameter."
   ]
  },
  {
   "cell_type": "code",
   "execution_count": 20,
   "id": "f3ce0cc3-c701-4802-9820-5ab6ebdc937c",
   "metadata": {
    "tags": []
   },
   "outputs": [
    {
     "name": "stdout",
     "output_type": "stream",
     "text": []
    },
    {
     "name": "stdout",
     "output_type": "stream",
     "text": []
    },
    {
     "name": "stdout",
     "output_type": "stream",
     "text": []
    },
    {
     "name": "stdout",
     "output_type": "stream",
     "text": []
    },
    {
     "name": "stdout",
     "output_type": "stream",
     "text": []
    },
    {
     "name": "stdout",
     "output_type": "stream",
     "text": []
    },
    {
     "name": "stdout",
     "output_type": "stream",
     "text": []
    },
    {
     "name": "stdout",
     "output_type": "stream",
     "text": []
    },
    {
     "name": "stdout",
     "output_type": "stream",
     "text": []
    },
    {
     "name": "stdout",
     "output_type": "stream",
     "text": []
    },
    {
     "name": "stdout",
     "output_type": "stream",
     "text": []
    },
    {
     "name": "stdout",
     "output_type": "stream",
     "text": []
    },
    {
     "name": "stdout",
     "output_type": "stream",
     "text": []
    },
    {
     "name": "stdout",
     "output_type": "stream",
     "text": []
    },
    {
     "name": "stdout",
     "output_type": "stream",
     "text": []
    },
    {
     "name": "stdout",
     "output_type": "stream",
     "text": []
    },
    {
     "name": "stdout",
     "output_type": "stream",
     "text": []
    },
    {
     "name": "stdout",
     "output_type": "stream",
     "text": []
    },
    {
     "name": "stdout",
     "output_type": "stream",
     "text": []
    },
    {
     "name": "stdout",
     "output_type": "stream",
     "text": []
    },
    {
     "name": "stdout",
     "output_type": "stream",
     "text": []
    },
    {
     "name": "stdout",
     "output_type": "stream",
     "text": []
    },
    {
     "name": "stdout",
     "output_type": "stream",
     "text": []
    },
    {
     "name": "stdout",
     "output_type": "stream",
     "text": []
    },
    {
     "name": "stdout",
     "output_type": "stream",
     "text": []
    },
    {
     "name": "stdout",
     "output_type": "stream",
     "text": []
    },
    {
     "name": "stdout",
     "output_type": "stream",
     "text": []
    },
    {
     "name": "stdout",
     "output_type": "stream",
     "text": []
    },
    {
     "name": "stdout",
     "output_type": "stream",
     "text": []
    },
    {
     "name": "stdout",
     "output_type": "stream",
     "text": []
    },
    {
     "name": "stdout",
     "output_type": "stream",
     "text": []
    },
    {
     "name": "stdout",
     "output_type": "stream",
     "text": []
    },
    {
     "name": "stdout",
     "output_type": "stream",
     "text": []
    },
    {
     "name": "stdout",
     "output_type": "stream",
     "text": []
    },
    {
     "name": "stdout",
     "output_type": "stream",
     "text": []
    },
    {
     "name": "stdout",
     "output_type": "stream",
     "text": []
    },
    {
     "name": "stdout",
     "output_type": "stream",
     "text": []
    },
    {
     "name": "stdout",
     "output_type": "stream",
     "text": []
    },
    {
     "name": "stdout",
     "output_type": "stream",
     "text": []
    },
    {
     "name": "stdout",
     "output_type": "stream",
     "text": []
    },
    {
     "name": "stdout",
     "output_type": "stream",
     "text": []
    },
    {
     "name": "stdout",
     "output_type": "stream",
     "text": []
    },
    {
     "name": "stdout",
     "output_type": "stream",
     "text": []
    },
    {
     "name": "stdout",
     "output_type": "stream",
     "text": []
    },
    {
     "name": "stdout",
     "output_type": "stream",
     "text": []
    },
    {
     "name": "stdout",
     "output_type": "stream",
     "text": []
    },
    {
     "name": "stdout",
     "output_type": "stream",
     "text": []
    },
    {
     "name": "stdout",
     "output_type": "stream",
     "text": []
    },
    {
     "name": "stdout",
     "output_type": "stream",
     "text": []
    },
    {
     "name": "stdout",
     "output_type": "stream",
     "text": []
    },
    {
     "name": "stdout",
     "output_type": "stream",
     "text": []
    },
    {
     "name": "stdout",
     "output_type": "stream",
     "text": []
    },
    {
     "name": "stdout",
     "output_type": "stream",
     "text": []
    },
    {
     "name": "stdout",
     "output_type": "stream",
     "text": []
    },
    {
     "name": "stdout",
     "output_type": "stream",
     "text": []
    },
    {
     "name": "stdout",
     "output_type": "stream",
     "text": []
    },
    {
     "name": "stdout",
     "output_type": "stream",
     "text": []
    },
    {
     "name": "stdout",
     "output_type": "stream",
     "text": []
    },
    {
     "name": "stdout",
     "output_type": "stream",
     "text": []
    },
    {
     "name": "stdout",
     "output_type": "stream",
     "text": []
    },
    {
     "name": "stdout",
     "output_type": "stream",
     "text": []
    },
    {
     "name": "stdout",
     "output_type": "stream",
     "text": []
    },
    {
     "name": "stdout",
     "output_type": "stream",
     "text": []
    },
    {
     "name": "stdout",
     "output_type": "stream",
     "text": []
    },
    {
     "name": "stdout",
     "output_type": "stream",
     "text": []
    },
    {
     "name": "stdout",
     "output_type": "stream",
     "text": []
    },
    {
     "name": "stdout",
     "output_type": "stream",
     "text": []
    },
    {
     "name": "stdout",
     "output_type": "stream",
     "text": []
    },
    {
     "name": "stdout",
     "output_type": "stream",
     "text": []
    },
    {
     "name": "stdout",
     "output_type": "stream",
     "text": []
    },
    {
     "name": "stdout",
     "output_type": "stream",
     "text": []
    },
    {
     "name": "stdout",
     "output_type": "stream",
     "text": []
    },
    {
     "name": "stdout",
     "output_type": "stream",
     "text": []
    },
    {
     "name": "stdout",
     "output_type": "stream",
     "text": []
    },
    {
     "name": "stdout",
     "output_type": "stream",
     "text": []
    },
    {
     "name": "stdout",
     "output_type": "stream",
     "text": []
    },
    {
     "name": "stdout",
     "output_type": "stream",
     "text": []
    },
    {
     "name": "stdout",
     "output_type": "stream",
     "text": []
    },
    {
     "name": "stdout",
     "output_type": "stream",
     "text": []
    },
    {
     "name": "stdout",
     "output_type": "stream",
     "text": []
    },
    {
     "name": "stdout",
     "output_type": "stream",
     "text": []
    },
    {
     "name": "stdout",
     "output_type": "stream",
     "text": []
    },
    {
     "name": "stdout",
     "output_type": "stream",
     "text": []
    },
    {
     "name": "stdout",
     "output_type": "stream",
     "text": []
    },
    {
     "name": "stdout",
     "output_type": "stream",
     "text": [
      "Model directory set to: /lustre/fswork/projects/rech/fpb/commun/models\n",
      "This is the knowledge_base script.\n",
      "End of knowledge_base script.\n"
     ]
    }
   ],
   "source": [
    "!python -m lynx_id knowledge_base --config config_knowledge_base.yaml"
   ]
  },
  {
   "cell_type": "code",
   "execution_count": 21,
   "id": "cdcf43ca-cf84-471c-85f6-e243c7a8c368",
   "metadata": {
    "tags": []
   },
   "outputs": [
    {
     "data": {
      "text/plain": [
       "(8716, 4)"
      ]
     },
     "execution_count": 21,
     "metadata": {},
     "output_type": "execute_result"
    }
   ],
   "source": [
    "updated_knowledge_informations = pd.read_csv(RESOURCES / \"knowledge_db/new_informations.csv\")\n",
    "updated_knowledge_informations.shape"
   ]
  },
  {
   "cell_type": "markdown",
   "id": "20a4934e-98cd-49f0-a8fd-e5ff5981b83b",
   "metadata": {},
   "source": [
    "Two lines have been added to our knowledge base corresponding to our 2 previous images. Here are their contents:"
   ]
  },
  {
   "cell_type": "code",
   "execution_count": 22,
   "id": "ce4e9425-6d11-43f0-9479-4cc37b406b81",
   "metadata": {
    "tags": []
   },
   "outputs": [
    {
     "data": {
      "text/html": [
       "<div>\n",
       "<style scoped>\n",
       "    .dataframe tbody tr th:only-of-type {\n",
       "        vertical-align: middle;\n",
       "    }\n",
       "\n",
       "    .dataframe tbody tr th {\n",
       "        vertical-align: top;\n",
       "    }\n",
       "\n",
       "    .dataframe thead th {\n",
       "        text-align: right;\n",
       "    }\n",
       "</style>\n",
       "<table border=\"1\" class=\"dataframe\">\n",
       "  <thead>\n",
       "    <tr style=\"text-align: right;\">\n",
       "      <th></th>\n",
       "      <th>filepath</th>\n",
       "      <th>lynx_id</th>\n",
       "      <th>date</th>\n",
       "      <th>location</th>\n",
       "    </tr>\n",
       "  </thead>\n",
       "  <tbody>\n",
       "    <tr>\n",
       "      <th>8714</th>\n",
       "      <td>/lustre/fswork/projects/rech/ads/uxp55sd/DP-SC...</td>\n",
       "      <td>Goat</td>\n",
       "      <td>NaN</td>\n",
       "      <td>Paris</td>\n",
       "    </tr>\n",
       "    <tr>\n",
       "      <th>8715</th>\n",
       "      <td>/lustre/fswork/projects/rech/ads/uxp55sd/DP-SC...</td>\n",
       "      <td>439_FR</td>\n",
       "      <td>NaN</td>\n",
       "      <td>NaN</td>\n",
       "    </tr>\n",
       "  </tbody>\n",
       "</table>\n",
       "</div>"
      ],
      "text/plain": [
       "                                               filepath lynx_id date location\n",
       "8714  /lustre/fswork/projects/rech/ads/uxp55sd/DP-SC...    Goat  NaN    Paris\n",
       "8715  /lustre/fswork/projects/rech/ads/uxp55sd/DP-SC...  439_FR  NaN      NaN"
      ]
     },
     "execution_count": 22,
     "metadata": {},
     "output_type": "execute_result"
    }
   ],
   "source": [
    "updated_knowledge_informations.tail(2)"
   ]
  },
  {
   "cell_type": "markdown",
   "id": "f1f62c6a-d7cb-4bfa-b0b4-074b9af9ff97",
   "metadata": {},
   "source": [
    "Another case involves modifying the information and embedding of an image. In this case, we don't want to add any lines to our knowledge base.\n",
    "\n",
    "Let's modify the line in our first image."
   ]
  },
  {
   "cell_type": "code",
   "execution_count": 23,
   "id": "ad25e42e-7c62-4609-bd2f-61553412ad67",
   "metadata": {
    "tags": []
   },
   "outputs": [
    {
     "data": {
      "text/html": [
       "<div>\n",
       "<style scoped>\n",
       "    .dataframe tbody tr th:only-of-type {\n",
       "        vertical-align: middle;\n",
       "    }\n",
       "\n",
       "    .dataframe tbody tr th {\n",
       "        vertical-align: top;\n",
       "    }\n",
       "\n",
       "    .dataframe thead th {\n",
       "        text-align: right;\n",
       "    }\n",
       "</style>\n",
       "<table border=\"1\" class=\"dataframe\">\n",
       "  <thead>\n",
       "    <tr style=\"text-align: right;\">\n",
       "      <th></th>\n",
       "      <th>filepath</th>\n",
       "      <th>individual_predicted</th>\n",
       "      <th>is_new</th>\n",
       "      <th>latest_picture_individual_predicted</th>\n",
       "      <th>location_closest_individual</th>\n",
       "      <th>neighbor_1</th>\n",
       "      <th>neighbor_2</th>\n",
       "      <th>neighbor_3</th>\n",
       "      <th>neighbor_4</th>\n",
       "      <th>neighbor_5</th>\n",
       "      <th>location</th>\n",
       "      <th>date</th>\n",
       "    </tr>\n",
       "  </thead>\n",
       "  <tbody>\n",
       "    <tr>\n",
       "      <th>1</th>\n",
       "      <td>/lustre/fswork/projects/rech/ads/uxp55sd/DP-SC...</td>\n",
       "      <td>Goat</td>\n",
       "      <td>True</td>\n",
       "      <td>NaN</td>\n",
       "      <td>NaN</td>\n",
       "      <td>New</td>\n",
       "      <td>oslo_FR</td>\n",
       "      <td>1512_FR</td>\n",
       "      <td>f01-047=922_FR</td>\n",
       "      <td>f39-086=1474=1478_FR</td>\n",
       "      <td>Annecy</td>\n",
       "      <td>2025-01-03</td>\n",
       "    </tr>\n",
       "  </tbody>\n",
       "</table>\n",
       "</div>"
      ],
      "text/plain": [
       "                                            filepath individual_predicted  \\\n",
       "1  /lustre/fswork/projects/rech/ads/uxp55sd/DP-SC...                 Goat   \n",
       "\n",
       "  is_new latest_picture_individual_predicted location_closest_individual  \\\n",
       "1   True                                 NaN                         NaN   \n",
       "\n",
       "  neighbor_1 neighbor_2 neighbor_3      neighbor_4            neighbor_5  \\\n",
       "1        New    oslo_FR    1512_FR  f01-047=922_FR  f39-086=1474=1478_FR   \n",
       "\n",
       "  location        date  \n",
       "1   Annecy  2025-01-03  "
      ]
     },
     "execution_count": 23,
     "metadata": {},
     "output_type": "execute_result"
    }
   ],
   "source": [
    "new_results_csv = pd.DataFrame(results_csv.iloc[1]).T\n",
    "new_results_csv.loc[1, \"location\"] = \"Annecy\"\n",
    "new_results_csv.loc[1, \"date\"] = datetime.date.today()\n",
    "new_results_csv"
   ]
  },
  {
   "cell_type": "markdown",
   "id": "8596b54c-b590-42a1-bff8-40b3b1024b5c",
   "metadata": {},
   "source": [
    "The associated embedding is also modified. This can be useful if you want to use a different embedding model, for example."
   ]
  },
  {
   "cell_type": "code",
   "execution_count": 24,
   "id": "2fa92494-903c-4965-b2b1-3dae7f5ab330",
   "metadata": {
    "tags": []
   },
   "outputs": [
    {
     "data": {
      "text/plain": [
       "tensor([[0., 0., 0.,  ..., 0., 0., 0.]])"
      ]
     },
     "execution_count": 24,
     "metadata": {},
     "output_type": "execute_result"
    }
   ],
   "source": [
    "new_results_embeddings = torch.zeros((1, 1536))\n",
    "new_results_embeddings"
   ]
  },
  {
   "cell_type": "markdown",
   "id": "ab3075a1-772a-4666-bccb-071a67148af5",
   "metadata": {},
   "source": [
    "Save changes."
   ]
  },
  {
   "cell_type": "code",
   "execution_count": 25,
   "id": "49f49df7-ab57-444c-acd1-92564a051eb3",
   "metadata": {
    "tags": []
   },
   "outputs": [],
   "source": [
    "new_results_csv.to_csv(RESOURCES / \"results/result_informations.csv\", index=False)\n",
    "save_file({\"embeddings\": new_results_embeddings}, RESOURCES / \"results/result_embeddings.safetensors\")"
   ]
  },
  {
   "cell_type": "markdown",
   "id": "61950207-0f95-44f5-a4e1-9f256c21a9e3",
   "metadata": {},
   "source": [
    "We can now re-run our knowledge base update script."
   ]
  },
  {
   "cell_type": "code",
   "execution_count": 26,
   "id": "39330ade-fed0-4802-9aea-c0ad358fbf78",
   "metadata": {
    "tags": []
   },
   "outputs": [
    {
     "name": "stdout",
     "output_type": "stream",
     "text": [
      "Overwriting config_knowledge_base.yaml\n"
     ]
    }
   ],
   "source": [
    "%%writefile config_knowledge_base.yaml\n",
    "knowledge-informations-path: ../../lynx_id/resources/knowledge_db/new_informations.csv\n",
    "knowledge-embeddings-path: ../../lynx_id/resources/knowledge_db/new_embeddings.safetensors\n",
    "updated-informations-path: ../../lynx_id/resources/results/result_informations.csv\n",
    "updated-embeddings-path: ../../lynx_id/resources/results/result_embeddings.safetensors\n",
    "new-knowledge-informations-path: ../../lynx_id/resources/knowledge_db/new_informations_final.csv\n",
    "new-knowledge-embeddings-path: ../../lynx_id/resources/knowledge_db/new_embeddings_final.safetensors"
   ]
  },
  {
   "cell_type": "code",
   "execution_count": 27,
   "id": "7cb09a3f-b3c8-4da7-b490-6b4332a837a6",
   "metadata": {
    "tags": []
   },
   "outputs": [
    {
     "name": "stdout",
     "output_type": "stream",
     "text": []
    },
    {
     "name": "stdout",
     "output_type": "stream",
     "text": []
    },
    {
     "name": "stdout",
     "output_type": "stream",
     "text": []
    },
    {
     "name": "stdout",
     "output_type": "stream",
     "text": []
    },
    {
     "name": "stdout",
     "output_type": "stream",
     "text": []
    },
    {
     "name": "stdout",
     "output_type": "stream",
     "text": []
    },
    {
     "name": "stdout",
     "output_type": "stream",
     "text": []
    },
    {
     "name": "stdout",
     "output_type": "stream",
     "text": []
    },
    {
     "name": "stdout",
     "output_type": "stream",
     "text": []
    },
    {
     "name": "stdout",
     "output_type": "stream",
     "text": []
    },
    {
     "name": "stdout",
     "output_type": "stream",
     "text": []
    },
    {
     "name": "stdout",
     "output_type": "stream",
     "text": []
    },
    {
     "name": "stdout",
     "output_type": "stream",
     "text": []
    },
    {
     "name": "stdout",
     "output_type": "stream",
     "text": []
    },
    {
     "name": "stdout",
     "output_type": "stream",
     "text": []
    },
    {
     "name": "stdout",
     "output_type": "stream",
     "text": []
    },
    {
     "name": "stdout",
     "output_type": "stream",
     "text": []
    },
    {
     "name": "stdout",
     "output_type": "stream",
     "text": []
    },
    {
     "name": "stdout",
     "output_type": "stream",
     "text": []
    },
    {
     "name": "stdout",
     "output_type": "stream",
     "text": []
    },
    {
     "name": "stdout",
     "output_type": "stream",
     "text": []
    },
    {
     "name": "stdout",
     "output_type": "stream",
     "text": []
    },
    {
     "name": "stdout",
     "output_type": "stream",
     "text": []
    },
    {
     "name": "stdout",
     "output_type": "stream",
     "text": []
    },
    {
     "name": "stdout",
     "output_type": "stream",
     "text": []
    },
    {
     "name": "stdout",
     "output_type": "stream",
     "text": []
    },
    {
     "name": "stdout",
     "output_type": "stream",
     "text": []
    },
    {
     "name": "stdout",
     "output_type": "stream",
     "text": []
    },
    {
     "name": "stdout",
     "output_type": "stream",
     "text": []
    },
    {
     "name": "stdout",
     "output_type": "stream",
     "text": []
    },
    {
     "name": "stdout",
     "output_type": "stream",
     "text": []
    },
    {
     "name": "stdout",
     "output_type": "stream",
     "text": []
    },
    {
     "name": "stdout",
     "output_type": "stream",
     "text": []
    },
    {
     "name": "stdout",
     "output_type": "stream",
     "text": []
    },
    {
     "name": "stdout",
     "output_type": "stream",
     "text": []
    },
    {
     "name": "stdout",
     "output_type": "stream",
     "text": []
    },
    {
     "name": "stdout",
     "output_type": "stream",
     "text": []
    },
    {
     "name": "stdout",
     "output_type": "stream",
     "text": []
    },
    {
     "name": "stdout",
     "output_type": "stream",
     "text": []
    },
    {
     "name": "stdout",
     "output_type": "stream",
     "text": []
    },
    {
     "name": "stdout",
     "output_type": "stream",
     "text": []
    },
    {
     "name": "stdout",
     "output_type": "stream",
     "text": []
    },
    {
     "name": "stdout",
     "output_type": "stream",
     "text": []
    },
    {
     "name": "stdout",
     "output_type": "stream",
     "text": []
    },
    {
     "name": "stdout",
     "output_type": "stream",
     "text": []
    },
    {
     "name": "stdout",
     "output_type": "stream",
     "text": []
    },
    {
     "name": "stdout",
     "output_type": "stream",
     "text": []
    },
    {
     "name": "stdout",
     "output_type": "stream",
     "text": []
    },
    {
     "name": "stdout",
     "output_type": "stream",
     "text": []
    },
    {
     "name": "stdout",
     "output_type": "stream",
     "text": []
    },
    {
     "name": "stdout",
     "output_type": "stream",
     "text": []
    },
    {
     "name": "stdout",
     "output_type": "stream",
     "text": []
    },
    {
     "name": "stdout",
     "output_type": "stream",
     "text": []
    },
    {
     "name": "stdout",
     "output_type": "stream",
     "text": []
    },
    {
     "name": "stdout",
     "output_type": "stream",
     "text": []
    },
    {
     "name": "stdout",
     "output_type": "stream",
     "text": []
    },
    {
     "name": "stdout",
     "output_type": "stream",
     "text": []
    },
    {
     "name": "stdout",
     "output_type": "stream",
     "text": []
    },
    {
     "name": "stdout",
     "output_type": "stream",
     "text": []
    },
    {
     "name": "stdout",
     "output_type": "stream",
     "text": []
    },
    {
     "name": "stdout",
     "output_type": "stream",
     "text": []
    },
    {
     "name": "stdout",
     "output_type": "stream",
     "text": []
    },
    {
     "name": "stdout",
     "output_type": "stream",
     "text": []
    },
    {
     "name": "stdout",
     "output_type": "stream",
     "text": []
    },
    {
     "name": "stdout",
     "output_type": "stream",
     "text": []
    },
    {
     "name": "stdout",
     "output_type": "stream",
     "text": []
    },
    {
     "name": "stdout",
     "output_type": "stream",
     "text": []
    },
    {
     "name": "stdout",
     "output_type": "stream",
     "text": []
    },
    {
     "name": "stdout",
     "output_type": "stream",
     "text": []
    },
    {
     "name": "stdout",
     "output_type": "stream",
     "text": []
    },
    {
     "name": "stdout",
     "output_type": "stream",
     "text": []
    },
    {
     "name": "stdout",
     "output_type": "stream",
     "text": []
    },
    {
     "name": "stdout",
     "output_type": "stream",
     "text": []
    },
    {
     "name": "stdout",
     "output_type": "stream",
     "text": []
    },
    {
     "name": "stdout",
     "output_type": "stream",
     "text": []
    },
    {
     "name": "stdout",
     "output_type": "stream",
     "text": []
    },
    {
     "name": "stdout",
     "output_type": "stream",
     "text": []
    },
    {
     "name": "stdout",
     "output_type": "stream",
     "text": []
    },
    {
     "name": "stdout",
     "output_type": "stream",
     "text": []
    },
    {
     "name": "stdout",
     "output_type": "stream",
     "text": []
    },
    {
     "name": "stdout",
     "output_type": "stream",
     "text": []
    },
    {
     "name": "stdout",
     "output_type": "stream",
     "text": []
    },
    {
     "name": "stdout",
     "output_type": "stream",
     "text": []
    },
    {
     "name": "stdout",
     "output_type": "stream",
     "text": []
    },
    {
     "name": "stdout",
     "output_type": "stream",
     "text": [
      "Model directory set to: /lustre/fswork/projects/rech/fpb/commun/models\n",
      "This is the knowledge_base script.\n",
      "End of knowledge_base script.\n"
     ]
    }
   ],
   "source": [
    "!python -m lynx_id knowledge_base --config config_knowledge_base.yaml"
   ]
  },
  {
   "cell_type": "markdown",
   "id": "2036ff1e-b008-4125-9e7d-2c002c1ab345",
   "metadata": {},
   "source": [
    "We look at the updated generated information file. "
   ]
  },
  {
   "cell_type": "code",
   "execution_count": 28,
   "id": "30acdf6f-a645-4b4e-8d5f-1d2d9701adc5",
   "metadata": {
    "tags": []
   },
   "outputs": [
    {
     "data": {
      "text/html": [
       "<div>\n",
       "<style scoped>\n",
       "    .dataframe tbody tr th:only-of-type {\n",
       "        vertical-align: middle;\n",
       "    }\n",
       "\n",
       "    .dataframe tbody tr th {\n",
       "        vertical-align: top;\n",
       "    }\n",
       "\n",
       "    .dataframe thead th {\n",
       "        text-align: right;\n",
       "    }\n",
       "</style>\n",
       "<table border=\"1\" class=\"dataframe\">\n",
       "  <thead>\n",
       "    <tr style=\"text-align: right;\">\n",
       "      <th></th>\n",
       "      <th>filepath</th>\n",
       "      <th>lynx_id</th>\n",
       "      <th>date</th>\n",
       "      <th>location</th>\n",
       "    </tr>\n",
       "  </thead>\n",
       "  <tbody>\n",
       "    <tr>\n",
       "      <th>8714</th>\n",
       "      <td>/lustre/fswork/projects/rech/ads/uxp55sd/DP-SC...</td>\n",
       "      <td>Goat</td>\n",
       "      <td>2025-01-03</td>\n",
       "      <td>Annecy</td>\n",
       "    </tr>\n",
       "    <tr>\n",
       "      <th>8715</th>\n",
       "      <td>/lustre/fswork/projects/rech/ads/uxp55sd/DP-SC...</td>\n",
       "      <td>439_FR</td>\n",
       "      <td>NaN</td>\n",
       "      <td>NaN</td>\n",
       "    </tr>\n",
       "  </tbody>\n",
       "</table>\n",
       "</div>"
      ],
      "text/plain": [
       "                                               filepath lynx_id        date  \\\n",
       "8714  /lustre/fswork/projects/rech/ads/uxp55sd/DP-SC...    Goat  2025-01-03   \n",
       "8715  /lustre/fswork/projects/rech/ads/uxp55sd/DP-SC...  439_FR         NaN   \n",
       "\n",
       "     location  \n",
       "8714   Annecy  \n",
       "8715      NaN  "
      ]
     },
     "execution_count": 28,
     "metadata": {},
     "output_type": "execute_result"
    }
   ],
   "source": [
    "final_informations = pd.read_csv(RESOURCES / \"knowledge_db/new_informations_final.csv\")\n",
    "final_informations.tail(2)"
   ]
  },
  {
   "cell_type": "markdown",
   "id": "6a078453-e2a7-4b30-b45c-c3fe2da6cf78",
   "metadata": {},
   "source": [
    "We do the same for embeddings."
   ]
  },
  {
   "cell_type": "code",
   "execution_count": 29,
   "id": "71f03875-3d75-44c7-9cd6-4907b2324278",
   "metadata": {
    "tags": []
   },
   "outputs": [
    {
     "data": {
      "text/plain": [
       "torch.Size([8716, 1536])"
      ]
     },
     "execution_count": 29,
     "metadata": {},
     "output_type": "execute_result"
    }
   ],
   "source": [
    "with safe_open(RESOURCES / \"knowledge_db/new_embeddings_final.safetensors\", framework=\"pt\", device=\"cpu\") as f:\n",
    "    final_embeddings = f.get_tensor(\"embeddings\")\n",
    "final_embeddings.shape"
   ]
  },
  {
   "cell_type": "code",
   "execution_count": 30,
   "id": "f22f1e6e-35cf-44d0-8f0f-a042ad68f9f8",
   "metadata": {
    "tags": []
   },
   "outputs": [
    {
     "data": {
      "text/plain": [
       "tensor([[ 0.0000,  0.0000,  0.0000,  ...,  0.0000,  0.0000,  0.0000],\n",
       "        [ 0.0854,  0.4875,  0.0563,  ...,  0.2650,  0.0377, -0.4591]])"
      ]
     },
     "execution_count": 30,
     "metadata": {},
     "output_type": "execute_result"
    }
   ],
   "source": [
    "final_embeddings[-2:]"
   ]
  },
  {
   "cell_type": "markdown",
   "id": "391d131b-c902-4f73-95ca-026683a380d4",
   "metadata": {},
   "source": [
    "The embeddings and information have been updated without adding new elements to our knowledge base."
   ]
  },
  {
   "cell_type": "markdown",
   "id": "afed9392-abd2-4c11-a63a-daa067dd0f63",
   "metadata": {},
   "source": [
    "## **OPTIONAL: building a knowledge base from a dataset**\n",
    "\n",
    "If you want to build a new knowledge base with a certain model, you can use the following cells, adapting them to your code."
   ]
  },
  {
   "cell_type": "raw",
   "id": "7872010a-826a-42be-8bb4-4889a13bbab6",
   "metadata": {},
   "source": [
    "from lynx_id.data.dataset import LynxDataset\n",
    "from lynx_id.data.transformations_and_augmentations import transforms_megadescriptor as transforms\n",
    "from torch.utils.data import DataLoader\n",
    "from lynx_id.data.collate import collate_single\n",
    "from lynx_id.model.embeddings import EmbeddingModel\n",
    "\n",
    "BASE_PATH = Path(\"/lustre/fsn1/projects/rech/ads/commun/datasets/balanced_noswiss_csv\")\n",
    "countries = ['all']\n",
    "image_size = 384\n",
    "probabilities = [0, 0, 1]"
   ]
  },
  {
   "cell_type": "raw",
   "id": "043e8cba-2730-4dad-a1bd-04917649dedb",
   "metadata": {},
   "source": [
    "train_lynxDataset = LynxDataset(\n",
    "    dataset_csv=Path(BASE_PATH / 'lynx_id_balanced_train.csv'),\n",
    "    countries=countries,\n",
    "    loader=\"pil\",\n",
    "    transform=transforms(image_size=image_size),\n",
    "    augmentation=None,\n",
    "    probabilities=probabilities,\n",
    "    mode='single',\n",
    "    device=\"auto\"\n",
    ")"
   ]
  },
  {
   "cell_type": "raw",
   "id": "21121a4f-4d4d-4a99-b04d-ed62e040dcad",
   "metadata": {},
   "source": [
    "train_dataloader = DataLoader(\n",
    "    train_lynxDataset,\n",
    "    batch_size=64,\n",
    "    shuffle=False,\n",
    "    num_workers=4,\n",
    "    collate_fn=collate_single,\n",
    "    prefetch_factor=4\n",
    ")"
   ]
  },
  {
   "cell_type": "raw",
   "id": "e503b9b0-4043-4fbc-b8e0-127ed0f7f682",
   "metadata": {},
   "source": [
    "embedding_model = EmbeddingModel(\n",
    "    model_path=\"/lustre/fswork/projects/rech/ads/commun/kg_tests/experiments/megad_noswiss_full/2024-12-17_22-20-21/model_best_0.019.pth\",\n",
    "    device=\"cuda\",\n",
    "    model_type='megadescriptor',\n",
    ")"
   ]
  },
  {
   "cell_type": "raw",
   "id": "28762a93-3a54-4497-92de-2555cbae2d1b",
   "metadata": {},
   "source": [
    "train_embeddings = embedding_model.compute_embeddings(\n",
    "    train_dataloader,\n",
    "    save_embeddings_path=\"/lustre/fswork/projects/rech/ads/uxp55sd/DP-SCR_Identify-and-estimate-density-lynx-population/lynx_id/resources/knowledge_db/embeddings.safetensors\",\n",
    "    save_lynx_infos_path=\"/lustre/fswork/projects/rech/ads/uxp55sd/DP-SCR_Identify-and-estimate-density-lynx-population/lynx_id/resources/knowledge_db/informations.csv\").to(\"cpu\")"
   ]
  }
 ],
 "metadata": {
  "kernelspec": {
   "display_name": "pytorch-gpu-2.2.0_py3.11.7",
   "language": "python",
   "name": "module-conda-env-pytorch-gpu-2.2.0_py3.11.7"
  },
  "language_info": {
   "file_extension": ".py",
   "mimetype": "text/x-python",
   "name": "python",
   "version": "3.11.7"
  }
 },
 "nbformat": 4,
 "nbformat_minor": 5
}
